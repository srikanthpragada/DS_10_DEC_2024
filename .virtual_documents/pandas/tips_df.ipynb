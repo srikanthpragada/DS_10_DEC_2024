import pandas as pd
import seaborn as sns


tips =  pd.read_csv("tips.csv")


tips.info()


tips.sample(5)


tips.nlargest(5,'tip')


(tips.tip / tips.total_bill).mean()


(tips.tip / tips.total_bill).sort_values(ascending=False).head(10)


tips.shape


tips['total_bill'].sum()


tips.columns


day_group = tips.groupby('day')


day_group.sum(numeric_only = True)


day_group[['total_bill','tip']].sum()


tips.groupby('sex')[['total_bill','tip']].mean()


tips['tip_per'] = tips['tip'] / tips['total_bill'] * 100


tips


tips.groupby('sex')['tip_per'].mean()


tips.sort_values(by='tip_per', ascending=False).head()                 


tips.groupby('day')[['total_bill','tip']].agg(['mean','sum','max'])


tips.groupby(['smoker','day'])[ ['total_bill','tip']].sum()


tips.groupby(['smoker','day'], as_index=False)[ ['total_bill','tip']].sum()


tips.groupby(['day','smoker','sex'])[['total_bill','tip']].agg(['sum','mean'])


tips.groupby(['day','smoker'])[['total_bill','tip']].agg({'total_bill' : 'sum','tip' :'mean'})


day_groups = tips.groupby('day')


for day,rows in day_groups:
    print(day)
    print(rows.sort_values('total_bill', ascending=False).head(3))  # Top 3 transactions 


summary = tips.groupby(['day','time']).sum(numeric_only = True)


summary.index


summary


summary  = tips.groupby(['day','time'], as_index=False).sum(numeric_only = True)


summary


summary.loc[(summary.day == 'Fri') & (summary.time == 'Dinner'), 'total_bill']





tips.pivot_table(values = 'total_bill', index='day', columns='time')


tips.pivot_table(values = 'total_bill', index='day', columns='sex', aggfunc=['sum','mean'])


tips.pivot_table(values = 'total_bill', index='day', columns=['time','smoker'], aggfunc='sum')


# Margins is about summaries 
tips.pivot_table(values = 'total_bill', index='day', columns=['smoker'], aggfunc='sum', margins=True)





pd.get_dummies( tips[['smoker','day']])  # one-hot encoding





tips['bill_bin'] = pd.cut(tips.total_bill,5)


tips[['total_bill','bill_bin']]


tips['bill_bin'] = pd.cut(tips.total_bill, bins=[0,10,30,50,100])
tips[['total_bill','bill_bin']].sample(5)


tips['bill_bin'].value_counts()


tips['bill_bin'] = pd.cut(tips.total_bill,bins=[0,10,20,40,100],
                          labels=['Low','Medium','High','Very High'])
tips[['total_bill','bill_bin']]


tips['bill_bin'].value_counts()


pd.qcut(tips['total_bill'], [0,.25,.75,1], labels=['LQ','IQR','UQ'])


bins, intervals = pd.cut(tips.total_bill,bins=5,retbins=True)                          


intervals





day_total = tips.groupby("day")['total_bill'].sum()
#print(day_total)
day_total.plot(kind='bar', ylabel = "Amount", title = "Total Bill By Day")


day_total = tips.groupby("day")['tip'].mean()
day_total.plot(kind = 'pie')


totals = tips.groupby(["day",'sex'])['total_bill'].sum()
totals


totals.plot.bar()


day_total = tips.pivot_table(index='day',columns='sex',values=['total_bill'],aggfunc='sum')


day_total


day_total.columns = ['Male','Female']
day_total


day_total.plot.bar()


gender_total = tips.pivot_table(index='sex',columns='day',values=['total_bill'],aggfunc='sum')
gender_total.columns = ["Thu",'Fir','Sat','Sun']
gender_total.plot.bar()
#print(gender_total)



