import seaborn as sns
import pandas as pd
import numpy as np
import matplotlib.pyplot as plt
import warnings


warnings.filterwarnings('ignore')


sns.set(style="dark")


tips = pd.read_csv("tips.csv")
flights = sns.load_dataset("flights")











ax = sns.boxplot(x="day",y="tip", data = tips)


ax = sns.boxplot(x="day",y="tip", data = tips, showfliers=False)


ax = sns.boxplot(x="day",y="total_bill", hue="sex", data = tips)
ax.set_xlabel("Week")
t = ax.set_title("Day-wise Total Bill for Male and Female")


ax = sns.boxplot(x="day",y="tip", hue="smoker", data = tips)


# Add extra parameters realted to matplotlib
plt.figure(figsize=(10,5))
ax = sns.boxplot(x="day",y="total_bill",hue="sex", data = tips,
            showmeans=True, meanline=True, showfliers=False, width=0.5)





t = sns.countplot(x="day",data = tips, color='red')


# plt.figure(figsize=(15,6))
sns.countplot(x="day",data = tips, hue="sex")


# plt.figure(figsize=(15,6))
sns.set(style="whitegrid")
sns.countplot(x="smoker",data = tips, hue="day")


sns.set(style="whitegrid")
sns.countplot(x="day",data = tips, hue="smoker")





# Default estimator is mean 
ax = sns.barplot(x="day",y="total_bill", data = tips,  estimator=sum, ci = False)


sns.barplot(x="sex",y="total_bill", hue="day",errorbar=('ci', False), data = tips [ tips.time == 'Lunch'],estimator=sum)


sns.barplot(x="day",y="total_bill",data=tips,hue="size",errorbar=None, estimator=sum)





# Figure level API
sns.catplot(x="day",y="total_bill",data=tips, col="smoker", kind='bar', errorbar=None, estimator=sum)


# Figure level API
ax = sns.catplot(x="size",y="total_bill",data=tips, col="day", kind='bar', errorbar=None)
ax.fig.suptitle("Day-wise Average Total Bill for Different Sizes")
ax.fig.set_size_inches(15,5)
ax.fig.subplots_adjust(top=.85)


ax = sns.catplot(x="size",y="total_bill",data=tips, row="smoker", kind='bar', errorbar=None)
plt.gcf().set_size_inches(10,5)


seltips = tips[tips['size'].isin([2,3,4])]
sns.catplot(x="day",y="total_bill",data=seltips,col="size", kind='box')
plt.gcf().set_size_inches(10,5)  # Change current figure size 


sns.stripplot(x="day",y="total_bill",data=tips)   # Strip plot


sns.stripplot(x="day",y="total_bill", hue='smoker',data=tips)   # Strip 


sns.swarmplot(x="day",y="total_bill",data=tips)   # Swarm plot


sns.swarmplot(x="day",y="total_bill", hue='time',data=tips, dodge=True)   # Swarm plot





flights.sample(5)


flights.describe()


plt.figure(figsize=(15,5))
#plt.xticks(rotation=60)
plt.title('Passengers by Month')
ax = sns.barplot(x="month",y="passengers",data=flights,errorbar=None,estimator=sum)








sns.scatterplot(x="total_bill", y="tip", data=tips) 


sns.scatterplot(x="total_bill",y="tip", data=tips, size="smoker", size_order=["Yes","No"])


sns.scatterplot(x="total_bill",y="tip", hue='sex', style="smoker", style_order=["Yes",'No'], data=tips)
plt.gcf().set_size_inches(15,5)


flights.head(10)





sns.lineplot(x='month', y = 'passengers', estimator=sum, data = flights,errorbar=None)
plt.gcf().set_size_inches(15,5)


plt.figure(figsize=(15,5))
sns.lineplot(x="year", y="passengers", estimator=sum, data=flights, errorbar=None)


sns.lineplot(x='day', y = 'tip', data=tips, estimator='mean', hue='sex', errorbar=None)





# Figure level 
sns.relplot(x="total_bill",y="tip",col="sex", hue="smoker", data=tips)








sns.histplot(tips['tip'],kde=False)


sns.histplot(tips['tip'], bins=5, kde=True)


#Fig-level
sns.displot(x="tip",col='sex', data = tips, kde=False, bins = 5)


tips['tip_per'] = tips['tip'] / tips['total_bill'] 


sns.displot(x="tip_per",col='sex', data = tips, kde=False, bins = 5)


sns.barplot(x='sex', y = 'tip_per', data = tips, errorbar=None)   # Who is more generous - male or female?


# Add extra parameters realted to matplotlib
plt.figure(figsize=(10,5))
ax = sns.boxplot(x="day",y="total_bill" ,hue="sex", data = tips,
            showmeans=True, meanline=True, showfliers=False, width=0.5)


sns.rugplot(tips['tip'])


sns.rugplot(tips['total_bill'], height=.5)


sns.displot(x = 'total_bill', col='smoker', data=tips, kind = "kde")








sns.pairplot(tips,vars=['total_bill','tip'])
plt.gcf().set_size_inches(10,6)


sns.pairplot(tips,vars=['total_bill','tip'], hue="smoker" )
plt.gcf().set_size_inches(15,8)





sns.jointplot(x='total_bill', y = 'tip', data = tips)


sns.jointplot(x='total_bill', y = 'size', data = tips)


sns.jointplot(x='total_bill', y = 'tip', hue='sex', data = tips)








sns.regplot(x="total_bill",y='tip', data=tips, ci=False)





sns.lmplot(x="total_bill",y='tip', hue="smoker", data=tips,ci=False)


sns.lmplot(x="total_bill",y='tip',hue="sex", data=tips,ci=False)


sns.lmplot(x="total_bill",y='tip',hue="time",data=tips,ci=False)


sns.lmplot(x="total_bill",y='tip',col='day', data=tips,ci=False)


sns.residplot(x="total_bill",y='tip',data=tips[:50])


g = sns.FacetGrid(tips,col="day")
g = g.map(sns.residplot, "total_bill",  "tip")


g = sns.FacetGrid(tips,col="sex")
g = g.map(sns.residplot, "total_bill",  "tip")





day_tips = tips.groupby('day', as_index=False)[['tip','total_bill']].sum()


day_tips


ds = tips.pivot_table (index = "day", columns = "time", values="total_bill", aggfunc=np.sum)
ds


sns.heatmap(ds)


sns.heatmap(ds,cmap='YlGnBu', annot=True, fmt=".2f")


fl_summary = flights.pivot(index = 'month', columns = 'year', values = 'passengers')
# print(fl_summary)
ax = sns.heatmap(fl_summary,annot=True, fmt=".0f")
plt.gcf().set_size_inches(20,15)


ax = sns.heatmap(fl_summary,annot=True, fmt=".0f", cbar=False)
plt.gcf().set_size_inches(20,10)


cm = tips[['total_bill','tip','size']].corr()
print(cm)
sns.heatmap(cm, annot=True)



