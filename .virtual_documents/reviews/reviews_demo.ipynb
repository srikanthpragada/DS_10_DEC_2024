import pandas as pd
import seaborn as sns
import numpy as np


df =  pd.DataFrame( [('Awesome food','p'),
                     ('Pathatic service. Not worth at all.','n'),
                     ('Very good service. Fantanstic Gym','p'),
                     ('I like everything about it','p'),
                     ('Bad room service. Costly food. Unfriendly staff.','n'),
                     ('Untidy room. Bad room service.','n'),
                     ('Worst food. Unfriendly staff.','n'),
                    ])


df.columns = ('review','type')


df


from sklearn.feature_extraction.text import TfidfVectorizer
from sklearn.model_selection import train_test_split 
from sklearn.metrics import accuracy_score
from sklearn.metrics import confusion_matrix
from sklearn.linear_model import LogisticRegression


X = df['review']
y = df['type']


# tf-idf means term-frequency times inverse document-frequency. 
tfidf = TfidfVectorizer(ngram_range=(1,1), stop_words='english')
tfidf.fit(X)
features = tfidf.transform(X)


features.shape


df_features = pd.DataFrame(features.toarray())


column_names = tfidf.get_feature_names()


df_features.columns = column_names


df_features['type'] = y


df_features


df_positives = df_features.loc[df_features.type == 'p'].drop(columns = ['type'])
df_negatives = df_features.loc[df_features.type == 'n'].drop(columns = ['type'])


df_positives


# Take all columns except last column
for row in df_positives.iterrows():
    for idx,value in enumerate(row[1]):
        if value > .5:
            print(column_names[idx], value)


for row in df_negatives.iterrows():
    for idx,value in enumerate(row[1]):
        if isinstance(value,float) and value > .5:
            print(column_names[idx], value)
