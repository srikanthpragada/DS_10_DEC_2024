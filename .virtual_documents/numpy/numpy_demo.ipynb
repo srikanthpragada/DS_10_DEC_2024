import numpy as np


np.__version__





a = np.array([1,2,3,4])


type(a)


a


a.dtype   # data type of elements 


a.shape


langs = np.array(("Java","Python","C","JavaScript"))


langs


a = np.array((1,2,'abc')) 


a





a = np.array((1,4,6,8,9))
a * 2  # Multiplication 


a * a


a + a


## Python list with * 
pa = [1,4,6,8,9]
pa * 2     # Replication 


pa + pa     #Concatenation 





a = np.arange(1,11)
a


a.dtype


a = np.arange(1,20,2, dtype='int16')
a





a = np.full(10, 5)
a


a = np.full((5, 5), 3)  # Array of 5 X 5 and fill it with 3
a


a = np.ones(10)
a, a.dtype


a = np.ones(10, dtype = np.int32)
a, a.dtype


a[0] = 100    # modify element


a


# a[0] = 'Abc' # Not possible as array are homegeneous 


a = np.ones((3,3))
a


a = np.eye(5,5)   # Identity matrix
a





a = np.random.rand(10)
a


a[-1]


for n in a[:5]:
    print(n)


a = np.random.randint(1,100,10)   # min, max, size of array 
a


a = np.random.randint(1,10,(3,3))
a





a = np.linspace(1,10,5)
a


a, step = np.linspace(1,20,5, retstep = True)  # Return Step value 


a, step 


a, step = np.linspace(1,10,5, dtype=np.int32, retstep=True)
a, step





a = np.random.randint(1,10,(3,3))


a


a.ndim, a.size, a.dtype, a.shape





a = np.arange(1,26).reshape(5,5)
a


a[0,0], a[4,0]


# Nested list in Python
l = [[1,2,3], [10,20,30,40]]
l[1][0]


a[4]  # Single row 


a[-1,-1]   # Last row , last col 


a[-1]   # Last row 


a[-1,0], a[0][-1]





a


a[1:3]


a[1:3,2:4]


a[:,2]  # Column with index 2 


a[4,3:]


b = a[:,-1]   # Last column 
b.shape, b


b = a[:,-1:]   # Last column 
b.shape, b


a[-2:,-2:]


# a[5,5]  --> Error 


a[::2]   # Alternate rows 


a[::-1]


a[::-1, ::-1]


a[:,::-1]


a[-2:, ::-1] # Last two rows and cols in reverse 


a[::2,::2]


# Last two col and alternate rows 
a[::2, -2:]


# Last two colunms in reverse order 
a[:,:-3:-1]





a = np.arange(1,11)
a


a[[3,6,9]]    # index is an array


# Can we do it in Python list 
#l = [1,2,3,4]
#print( l[[1,3]])


a[[-1,-5,0]]


a = np.arange(1,26).reshape(5,5)
a


a [[0,2],[1,3]]


#a[[0,2],[1,3,4]]   # Error 


a [[1,2,3],[4,4,-1]]





a = np.arange(10)
for n in a:
    print(n, end = ' ')


a = np.random.randint(1,10,(3,3))
a


for r in a:
    for c in r:
         if c % 2 == 0:
                print(c)





a = np.random.randint(1,100,5)
a


a [ [True,False,True,False, False]]


a


a % 2 == 0 


a [ a % 2 == 0]


a > 50


# a [[True,True]]     --> Not valid because array of booleans and indexed array are not of same size


a = np.random.randint(1,100,10)
a


evens = a % 2 == 0 
evens


a [evens]    # a [ a % 2 == 0 ]


a[a % 2 == 1]  # Boolean Indexing


a2 = a [ a > 50]


a2


a = np.random.randint(1,10, (5,5))
a


a > 5


a [ a > 5 ] 





(a > 2) & (a < 8)


a [ (a > 2) & (a < 8)]  # Anding 


#a [(a > 2) and (a < 8)]  # Anding in python 


a = np.random.randint(1,10,10)
a


ba1 = a >= 1
print(ba1)
ba2 = a <= 5
print(ba2)


ba1 | ba2    # Oring 


a [ba1 & ba2]


def isprime(n):
    for i in range(2,n//2 + 1):
        if n % i == 0 :
               return False
            
    return True


# Returns a list of booleans 
def prime(a):
    lst = []
    for n in a:
         lst.append(isprime(n))   # Append true or false 
        
    return lst  # List of booleans 


a = np.random.randint(1,100,10)
a


print(prime(a))


a[prime(a)]


prime_booleans = [isprime(n) for n in a] # List comprehension for boolean indexing 


prime_booleans


a[prime_booleans]  


## Iterate array a and display all prime numbers 





a = np.array([1,2,3,4,5])


b = a + 10.5


b, b.dtype, a.dtype


print(b)
b -= 5        # inplace  b = b - 5
print(b)


# Diff sizes for array 
a1 = np.arange(4)
a2 = np.arange(5)
#a1 + a2    # Error


a1 = np.arange(5)
a2 = np.arange(5)
a1 == a2    





ba = np.array([True,False,True])
print(ba.all())
print(ba.any())


a1 == a2 


(a1 == a2).all()   # True if all elements are equal 


(a1 == a2).any() 


a1 = np.array([1,2,3,4,5])
a2 = np.array([1,4,3,2,4])


(a1 > a2).any() 


# Do we have any even number in the array
a = np.random.randint(1,100,10)
print(a)
evens = a % 2 == 0 
print(evens.any())





a = np.random.randint(1,100,10)
print(a)
b = np.zeros(5)
print(b)


a.sum()


a.any()  # Is there any true value (0 is false, non-zero is true)


b.any()


a.all()   # Are all true


## No.of odd numbers in each row 
a = np.random.randint(1,100,(6,6))
print(a)
for idx, row in enumerate(a):
    print(idx,(row % 2 == 1).sum())


np.array([True,False,True]).sum()   # True means 1, False means 0 


## How many subjects student passed
marks = np.random.randint(1,100,(6,6))
print(marks)
for row in marks:
    #print(row >= 50)
    print((row >= 50).sum())


marks.mean()  # Total mean for entire array 


for row in marks:
    print(int(row.mean()))   #  Mean for each student 


marks >= 50


(marks >= 50).sum()  # total no. of students passed





marks = np.random.randint(1,100,(3,3))


marks


marks.sum()


marks.sum(axis=0) # Column-wise total 


marks.sum(axis=1) # Row-wise total 


(marks >= 50).sum(axis=0)  # Column-wise Sum (Subject)


(marks >= 50).sum(axis=1)  # row-wise Sum (Student wise)3


marks.sum(axis = 1) # total marks for each student


marks.mean(axis=1)


marks.mean(axis=1).max()


# higest marks for each student
marks.max(axis = 1)


# sum of alternate rows 
marks[::2].sum(axis=1)


a = np.random.randint(1,100,10)
a.mean(),a.std()


a = np.random.randint(1,10,5)
print(a)
print(a.cumsum())


a = np.random.randint(1,10,(3,3))
print(a)


a.cumsum(axis = 1)  # Row-wise cumulative sum


a.cumsum(axis = 0)


a = np.random.randint(1,10,10)
a





a.argmax(), a.argmin()    # index for max and min values in the array 


a = np.array([5,3,10,2,1])
a.argsort()


sa = a [ a.argsort() ]
sa


sa.searchsorted(3)


l = a.tolist()


type(l)





a = np.array( (6,7,5,3,2))


sorted(a, reverse=True)  # Python function 


a


a.sort()  # Inplace sorting 


a





a = np.random.randint(1,10,(3,3))
a


a.sort() # Sort rows 
print(a)


a = np.random.randint(1,10,(3,3))
print(a)


a.sort(axis = 0)
print(a)


a = np.random.randint(1,10,(3,3))
print(a)
np.sort(a, axis=None)  # Sorting entire 2d array after flattening it 


a


np.sort(a)  # Row-wise sorting 


a = np.random.randint(1,10,(3,3))
print(a)


np.sort(a, axis=None).reshape((3,3))





a=np.arange(1,11)
a


b = a[5:]  # b is a View into a 
b


b[0] = 20


b


a


b[:] = 0


a


a[9] = 100
b


b[:2] = [10,20]
b,a


c = b[:3]


c[0] = 100


a


a1 = np.arange(1,11)
a2 = a1.copy()
a2[0] = 1000
a1,a2


a = np.array((1,2,3))
b = a[:]
del a    # Delete original 
print(b)





# Array of booleans  
a = np.array((1,2,3,4,5))
na = a[a > 3]  # You get a copy of a 
na [0] = 100
a, na


# Array of indexes 
a = np.array((1,2,3,4,5))
na = a[[1,3]]  # You get a copy of a 
na[0] = 100
a, na





a = np.arange(1,10)
b = np.arange(11,20)
a + b


np.add(a,b)


np.lcm(10,5), np.gcd(10,30)


np.sqrt( [10,15,30,40])


np.sign(a)





a1 = np.arange(1,5).reshape(2,2)
a1


a2 = np.arange(10,16).reshape(2,3)
a2


np.hstack((a1,a2))


a2 = np.arange(10,14).reshape(2,2)
a2


np.vstack((a1,a2))


np.concatenate((a1,a2))   # Vertical stacking - defualt axis = 0 


np.concatenate((a1,a2), axis=1)  # Horizontal stacking 


a1 = np.random.randint(1,10,(2,2))
a2 =  np.random.randint(1,10,(3,2))
# np.hstack((a1,a2))
# np.vstack((a1,a2))





a = np.arange(1,19).reshape(6,3)
a


np.vsplit(a,2)


a1, a2 = np.vsplit(a,2) # unpacking 


a1.shape, a2.shape


np.vsplit(a, (1, 4))   # Split at row 1 and row 4 


np.vsplit(a, (4,))


np.hsplit(a, (2,))  


a1, a2, a3 = np.vsplit(a, (1,4))   # Unpacking 


a1.shape, a2.shape, a3.shape 


a


a1, a2 = np.vsplit(a,2)


a1, a2


a1[0,0] = 100


a





a = np.arange(1,10)
b = a.reshape(3,3)
a


b


b[0,0] = 100    # B is a view to A
a


c = np.reshape(a, (-1,3))  # decide the number of rows 
c


a


np.reshape(a, (3,3), order='F')  # column-wise 


np.reshape(a, (3,3))   # C order, row-wise





a = np.arange(9).reshape(3,3)
print(a)


ar  = a.ravel()  # Returns a 1d array which is a view 
ar


ar[0] = 10


a





a = np.arange(9).reshape(3,3)
a


fa = a.flatten()  # Copy 
fa


fa[0] = 1000
fa, a


a.flatten('F')  # Column-major - Fortran





a = np.arange(1,21).reshape(4,5)
print(a)


a.transpose()


a.T





a = np.arange(20)
print(a)
a.resize(2,5)
print(a)


a = np.arange(10)
print(a)
a.resize(5)
print(a)








a = np.arange(1,21).reshape(4,5)
print(a)
print(a.T)


a = np.random.randint(1,10, (5,5))
a


np.linalg.inv(a)


a = np.random.randint(1,5,(3,4))
b = np.random.randint(1,5,(4,2))
a,b


a @ b   #  rows form a  X cols of b 


a.dot(b)


np.arange(1,10).reshape(3,3) * np.arange(1,10).reshape(3,3)    # Normal product (multiplication)


np.arange(1,10).reshape(3,3) @ np.arange(1,10).reshape(3,3)  # Dot product





X = np.array([[1,1000,2],[1,2000,3],[1,750,1]]) # 1,Size, No.bed rooms


X,X.shape


coef = np.array([2000000,5000,200000])  # Intercept and b1, b2 (Slope)
coef.shape


y = X @ coef
y


X.dot(coef)





a = np.arange(5)
a


a + 10   # 10 is broadcast to array of 5 elements


a = np.arange(4).reshape(2,2)
a


a + 10     # 10 is broadcast to (2,2)


a


a + np.array([1,2])


#a + np.array([2,2,3])


b = np.random.randint(1,5,(3,6))
c = np.random.randint(1,5,(3,1))


print(b)
print(c)


b + c  # c is broadcast to 6 cols 


a = np.arange(10).reshape(2,5)
a


b = np.arange(4)
b


a + b


a[:,:4] + b


a = np.arange(9)
b = np.arange(3)
print(a)
print(b)


a.reshape((3,3)) + b





import matplotlib.pyplot as plt
import matplotlib.image as image
from scipy import misc


img = misc.face()
type(img), img.shape, img.size


plt.imshow(img)


img.dtype


img[0,0]   # Colors at 0,0


img[0,0,2]  # Blue at 0,0 


img[-1,-1]   # Last pixel 


newimg = img.copy()


newimg[:100,:100,:] = [0,0,0]  # red patch in upper left corner (100 x 100)


plt.imshow(newimg)


newimg[-100:,-100:,:] = [0,0,255]  # Blue patch at the bottom right corner 


plt.imshow(newimg)


face = img[200:500, 450:850]


plt.imshow(face)


face2 = img.copy()
f1, f2 = np.vsplit(face2, (600,))
plt.imshow(f1)


plt.imshow(f2)


plt.imshow(np.vstack((f1,f2)))


(face2[:,:,2] == 0).sum()     # How many pixels have blue color set to zero


(face2[:,:,0] > 200).sum()  # How many pixels have red > 200


newimg = img.copy()
newimg[:,:,2] = 0    # Set blue part of image to 0
plt.imshow(newimg)


gimg = misc.ascent()
gimg.shape


gimg[0,0]


plt.imshow(gimg)


gimg.size


(gimg > 200).sum()


(gimg == 255).sum()


plt.gray()
plt.imshow(gimg)



