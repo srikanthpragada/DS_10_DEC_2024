





import numpy as np
import pandas as pd
import seaborn as sns
import matplotlib.pyplot as plt





!!cd


df = pd.read_csv("admission.csv")





df.sample(5)


df.shape


## drop column Sno as it is not imp.
df.drop(columns=['Sno'], inplace=True) 


df.info()


df.describe()








df['Rating'].value_counts()


sns.countplot(x="Rating", data = df)


sns.displot(df.Gre, kde=True)


sns.displot(df.Cgpa, kde=True)


sns.displot(df.Toefl)


df.Gre.plot.box(showmeans=True, meanline=True)


df.Toefl.plot.box(showmeans=True, meanline=True)


df.Cgpa.plot.box(showmeans=True, meanline=True)


sns.displot(df.Chance)


df.Chance.plot.box(showmeans=True, meanline=True)


df.Lor.hist(bins=5)


df.Sop.hist(bins=5)


df.Sop.value_counts()


df.Sop.value_counts().sort_index()


sns.countplot(x="Research", data =df)


df.Research.value_counts()





sns.boxplot(y="Gre", x="Rating", data=df)   # Compare categorical with continous variable 


sns.boxplot(y="Cgpa", x ="Rating", data=df)


sns.boxplot(y="Toefl", x ="Rating", data=df)


sns.regplot(x="Toefl", y="Gre", data = df)


df[['Gre','Toefl','Cgpa','Chance','Research']].corr()


sns.regplot(x='Cgpa',y = 'Gre', data  = df, ci = False)


sns.regplot(data=df, x='Cgpa',y='Chance') 


sns.lmplot(data=df, x='Gre',y='Chance',col="Rating", ci = False) 


sns.lmplot(data=df, x='Cgpa',y='Chance',col="Rating", ci=False) 


sns.scatterplot(data=df, x='Sop',y='Gre') 


corrmat = df.corr()


type(corrmat)


corrmat


corrmat['Chance'].sort_values(ascending=False)


sns.heatmap(corrmat,annot=True)
plt.gcf().set_size_inches(10,5)





from sklearn.model_selection import train_test_split
from sklearn.linear_model import LinearRegression


X = df[['Gre','Toefl','Cgpa']]
y = df['Chance'] * 100          # Convert fraction to percentage 


# Split data into train and test 
X_train, X_test, y_train, y_test = train_test_split(X,y, test_size=0.2, random_state=0)


X_train.shape, X_test.shape, y_train.shape, y_test.shape


## Fit model or Train Model or Build model 
lr_model = LinearRegression()
lr_model.fit(X_train,y_train) 


lr_model.coef_  # Slopes


lr_model.intercept_


gre = 335
tof= 100
cgpa = 9.5
chance = lr_model.intercept_ + gre * lr_model.coef_[0] + tof * lr_model.coef_[1] + cgpa * lr_model.coef_[2] 
print(chance)





lr_model.score(X_train,y_train)   # R2 Score


from sklearn.metrics import mean_squared_error


y_pred = lr_model.predict(X_train)
print(type(y_pred))


np.floor(y_pred[:10])  # Predicted value 


y_train[:10].values  # Actual value


mse = mean_squared_error(y_train,y_pred)  # Actual and predicted 
print("MSE   :" ,mse )
print("RMSE  :" ,np.sqrt(mse))


result = pd.DataFrame( {"Actual" : y_train, "Predicted" : y_pred})
result.head()


## Draw scatter plot with blue and red dots for actual and predicted 


size = 25
plt.scatter(result.index[:size], result['Actual'].head(size), color='blue',label="Actual")
plt.scatter(result.index[:size], result['Predicted'].head(size), color='red', label = "Predicted")
plt.legend()
plt.gcf().set_size_inches(15,5)





## Evaluate Model using test data 
y_pred = lr_model.predict(X_test)


lr_model.score(X_test,y_test)


from sklearn.metrics import r2_score
print(r2_score(y_test,y_pred))


res = pd.DataFrame({'Actual' : y_test[:25], 'Pred' : y_pred [:25]})


res.head(10)


mse = mean_squared_error(y_test,y_pred)
print("MSE   :" ,mse )
print("RMSE  :" ,np.sqrt(mse))


plt.scatter(res.index, res['Actual'], label="Actual")
plt.scatter(res.index, res['Pred'], label="Predicted")
plt.legend()
plt.gcf().set_size_inches(15,5)


plt.gcf().set_size_inches(15,5)
sns.lineplot(x = res.index, y = res['Actual'], color='green', label="Actual")
sns.lineplot(x = res.index, y = res['Pred'], color='red', label='Predicted')





pd.to_pickle(lr_model,'lr_model.pickle')



