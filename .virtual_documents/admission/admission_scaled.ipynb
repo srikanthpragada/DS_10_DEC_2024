





import numpy as np
import pandas as pd
import seaborn as sns
import matplotlib.pyplot as plt





df = pd.read_csv("admission.csv")





from sklearn.model_selection import train_test_split
from sklearn.linear_model import LinearRegression


df.describe()


X = df[['Gre','Toefl','Cgpa']]
y = df['Chance'] * 100


# Split data into train and test 
X_train, X_test, y_train, y_test = train_test_split(X,y, test_size=0.2, random_state=0)





X = df[['Gre','Toefl','Cgpa']]
y = df['Chance'] * 100


from sklearn.preprocessing import StandardScaler, MinMaxScaler
ss = StandardScaler()


# Split data into train and test 
X_train, X_test, y_train, y_test = train_test_split(X,y, test_size=0.2, random_state=0)


# Scale Train data 
X_train_scaled = ss.fit_transform(X_train)


X_train_scaled.shape


X_train.iloc[:10,0]


X_train_scaled[:10,0]


X_train_scaled[:10,1]


print(f"{X_train_scaled[:,0].mean():f} {X_train_scaled[:,0].std()}")  # Scaled data has 0 mean and 1 std


print(f"{X_train_scaled[:,1].mean():f} {X_train_scaled[:,1].std()}")  # Scaled data has 0 mean and 1 std


## Fit model or Training Model
model = LinearRegression()
model.fit(X_train_scaled,y_train)


model.score(X_train_scaled,y_train)


ss.mean_, ss.var_


model.coef_, model.intercept_


# Scale test data with same scale as train data
X_test_scaled = ss.transform(X_test)


y_pred = model.predict(X_test_scaled)


from sklearn.metrics import r2_score, mean_squared_error
score = r2_score(y_test,y_pred)
print(f"R2 Score: {score:0.2f}")


mse = mean_squared_error(y_test,y_pred)
print(f"Mean Squared Error : {mse:0.2f}")
print(f"RMSE  : {np.sqrt(mse):0.2f}")





scaled_df = pd.DataFrame(X_train_scaled)


scaled_df.head(10)


X_train.head(10)





# Scale input features using StandardScaler used to transform train data 
chances = model.predict(ss.transform([[320,110,8.5],[310,115,9.2]]))


chances


# Non-scaled data is being used as input 
chances = model.predict([[320,110,8.5]])


chances



