


import numpy as np
import pandas as pd
import seaborn as sns
import matplotlib.pyplot as plt





df = pd.read_csv("admission.csv")


df.columns





from sklearn.model_selection import train_test_split
from sklearn.linear_model import LinearRegression


X = df.drop(columns=['Chance','Sno'])
y = df['Chance'] * 100


# Split data into train and test 
X_train, X_test, y_train, y_test = train_test_split(X,y, test_size=0.2, random_state = 0)


X_train.shape, X_test.shape, y_train.shape, y_test.shape


## Fit model or Train Model or Build model 
lr_model = LinearRegression()
lr_model.fit(X_train,y_train) 


for c,s in zip(X_train.columns, lr_model.coef_):
    print(f"{c:20}  {s:10.4f}")


lr_model.intercept_





lr_model.score(X_train,y_train)   # R2 Score


from sklearn.metrics import mean_squared_error


y_pred = lr_model.predict(X_train)


mse = mean_squared_error(y_train,y_pred)
print("MSE   :" ,mse )
print("RMSE  :" ,np.sqrt(mse))


result = pd.DataFrame( {"Actual" : y_train, "Predicted" : y_pred})
result.head()





## Evaluate Model using test data 
y_pred = lr_model.predict(X_test)


lr_model.score(X_test,y_test)


test_res = pd.DataFrame( {"Actual" : y_test, "Predicted" : y_pred})
test_res.head()


mse = mean_squared_error(y_test,y_pred)
print("MSE   :" ,mse )
print("RMSE  :" ,np.sqrt(mse))
