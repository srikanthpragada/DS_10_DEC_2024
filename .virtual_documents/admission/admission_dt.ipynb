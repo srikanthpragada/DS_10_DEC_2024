





import numpy as np
import pandas as pd
import seaborn as sns
import matplotlib.pyplot as plt





df = pd.read_csv("admission.csv")


# drop column Sno as it is not imp.
df.drop(columns=['Sno'], inplace=True) 





X = df[['Gre','Toefl','Cgpa']]
y = df['Chance'] * 100


from sklearn.model_selection import train_test_split


# Split data into train and test 
X_train, X_test, y_train, y_test = train_test_split(X,y, test_size=0.2 , random_state = 0)





from sklearn.tree import DecisionTreeRegressor
dt_model = DecisionTreeRegressor()
dt_model.fit(X_train,y_train)


# Overfitting 
dt_model.score(X_train,y_train)


y_pred = dt_model.predict(X_test)


from sklearn.metrics import r2_score
score = r2_score(y_test,y_pred)
print(f"R2 Score: {score:0.2f}")



