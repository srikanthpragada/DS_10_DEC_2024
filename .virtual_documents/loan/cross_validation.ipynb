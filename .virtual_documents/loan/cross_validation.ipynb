# Importing required Packages
import pandas as pd
import numpy as np
import seaborn as sns
import matplotlib.pyplot as plt
%matplotlib inline
sns.set(style='white')


from sklearn.linear_model import LogisticRegression
from sklearn.tree import DecisionTreeClassifier
from sklearn.neighbors import KNeighborsClassifier
from sklearn.svm import LinearSVC, SVC
from sklearn.naive_bayes import GaussianNB


train = pd.read_csv("final_train.csv")


y = train.LoanStatus
X = train.drop('LoanStatus',axis=1)


X = pd.get_dummies(X)





from sklearn.model_selection import cross_val_score
all_scores = {}


from sklearn.preprocessing import StandardScaler
ss = StandardScaler()
X_scaled = ss.fit_transform(X)


names = ['LR','KNN','NB','DT','SVC']
clfs =  [LogisticRegression(max_iter=200), KNeighborsClassifier(n_jobs=1), GaussianNB(), DecisionTreeClassifier(max_depth=5),LinearSVC(max_iter=2000, dual = True)]


for clf,name in zip(clfs, names):
   scores = cross_val_score(clf, X_scaled,y, cv=3)
   print(scores)
   print(f"{name} = {scores.mean()*100:0.2f}")
   all_scores[name] = (scores.mean() * 100)


plt = sns.barplot(x = list(all_scores.keys()), y = list(all_scores.values()))
#ax = plt.set_xticklabels(labels = all_scores.keys())





from sklearn.model_selection import train_test_split
from sklearn.metrics import confusion_matrix
from sklearn.metrics import classification_report
from sklearn.metrics import accuracy_score


X_train, X_test, y_train, y_test =  train_test_split(X_scaled,y)


from sklearn.linear_model import LogisticRegressionCV
clf = LogisticRegressionCV(cv=5, max_iter=500).fit(X_train, y_train)


score = clf.score(X_train,y_train)
print('Accuracy_score : ',score)   





y_pred = clf.predict(X_test)


confusion_matrix(y_test,y_pred)


print(classification_report(y_test,y_pred))



