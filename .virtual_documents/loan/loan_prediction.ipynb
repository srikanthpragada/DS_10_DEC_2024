





# Importing required Packages
import pandas as pd
import numpy as np
import seaborn as sns
import matplotlib.pyplot as plt
%matplotlib inline
sns.set(style='white')





# Read data
train =  pd.read_csv("loan_train.csv")


train.shape


# Features in the dataset
train.columns





train.sample(5)


train.info()


train[['ApplicantIncome','CoapplicantIncome','LoanAmount', 'LoanAmountTerm']].describe()


train[['Gender','Married','Dependents','Education','SelfEmployed','PropertyArea']].describe(include='all')


train.isnull().sum()  # Count no. of null values for each column








train['LoanStatus'].value_counts()


# Normalize can be set to True to print proportions instead of number 
train['LoanStatus'].value_counts(normalize=True)


# Bar graph for loan_status
sns.countplot(x="LoanStatus", data=train)


train['Gender'].value_counts(normalize=True)


# Bar Graph for Gender
sns.countplot(x="Gender",data=train)


train['Dependents'].fillna('NA').value_counts()


# Bar graph for dependents 
sns.countplot(x = train['Dependents'].fillna('Unknown'))


train['Education'].value_counts()


sns.countplot(x = "Education", data=train)


train['SelfEmployed'].value_counts()


# Bar graph of SelfEmployed
sns.countplot(x= train['SelfEmployed'].fillna('Unknown'))


train.CreditHistory.fillna('Unknown').value_counts()


# Bar graph of Credit_History
sns.countplot(x = train.CreditHistory.fillna('Unknown'))


train['CreditHistory'].fillna('Unknown').value_counts(normalize=True)


train['PropertyArea'].value_counts()


# Bar graph of Property_Area
sns.countplot(x='PropertyArea',data=train)


# Bar Graph for Married
sns.countplot(x="Married",data=train)


train.pivot_table(columns="Married",index="Dependents", values="LoanID", aggfunc=len)


print(train['SelfEmployed'].isnull().sum())   # Missing count 
print(train['Gender'].isnull().sum())   # Missing count 
print(train['Married'].isnull().sum())   # Missing count 
print(train['CreditHistory'].isnull().sum())   # Missing count 
print(train['Dependents'].isnull().sum())   # Missing count 





# Visualizing numerical features
#plt.gcf().set_size_inches(5,8)
train.ApplicantIncome.plot.box(showfliers=False, meanline=True, showmeans = True)
# sns.boxplot(x="ApplicantIncome",data=train, orient='vertical', showfliers=False, meanline=True, showmeans=True)





app_income = train["ApplicantIncome"]


q1,q2,q3 = app_income.quantile([0.25,0.5,0.75])
print(q1,q2,q3)


iqr = q3 - q1


iqr


print("Upper Limit     : ", (q3 + 1.5 * iqr))
print("Lower Limit     : ", (q1 - 1.5 * iqr))
print("Higher outliers : ", (app_income > (q3 + 1.5 * iqr)).sum())
print("Lower  outliers : ", (app_income < (q1 - 1.5 * iqr)).sum())


sns.histplot(train.ApplicantIncome)


np.log(100), np.log(10000)   # Log Transformation


sns.histplot(np.log(train.ApplicantIncome))  # After log transformation 


sns.histplot(train["ApplicantIncome"],bins=[0,3000,6000,10000,90000])    # Histogram
# plt.gcf().set_size_inches(10,5)


train.CoapplicantIncome.plot.box(showmeans=True, meanline=True, showfliers = False)


sns.histplot(train.CoapplicantIncome)


sns.histplot(train.LoanAmount)


np.log(10), 2.718 ** 2.3


sns.histplot(np.log(train.LoanAmount))  # After log transformation 


train.LoanAmount.plot.box(showfliers=False, meanline=True, showmeans= True)
#plt.gcf().set_size_inches(20,8)


sns.histplot(train['LoanAmount'], bins=[0,200,500,600,1000])


sns.histplot(train["LoanAmountTerm"])


# Convert months to years and displays dist
(train.LoanAmountTerm / 12).value_counts().sort_index()





property_group = train.pivot_table(index='PropertyArea',columns="LoanStatus", values='LoanID',aggfunc=len)


property_group


train.PropertyArea.value_counts()


# Rejection rate -  no. of nos / total 
property_group.iloc[:,0] / (property_group.iloc[:,0] + property_group.iloc[:,1])


# Acceptance rate 
property_group.iloc[:,1] / (property_group.iloc[:,0] + property_group.iloc[:,1])


train.groupby(['PropertyArea','LoanStatus'])['LoanID'].count()


train.groupby(['Gender','Education'], as_index=False)['ApplicantIncome'].mean()


# d = train.groupby(by=["LoanStatus","Married"], as_index=False)['LoanID'].count()
# print(d)
# sns.catplot(x="Married",y="LoanID", hue="LoanStatus", data=d, kind="bar")
sns.countplot(x="Married", data = train, hue="LoanStatus")


train.pivot_table(index = "Married", columns="LoanStatus", values='LoanID',aggfunc=len)


# Married vs. Unmarried rejection rates
(113 / (285 + 113)), (79 / (79 + 134))


# d = train.groupby(by=["LoanStatus","Dependents"], as_index=False)['LoanID'].count()
# print(d)
sns.countplot(x="Dependents", hue="LoanStatus", data=train)


#d = train.groupby(by=["LoanStatus","Education"], as_index=False)['LoanID'].count()
#sns.catplot(x="Education",y="LoanID", hue="LoanStatus", data=d, kind="bar")


d = train.groupby(by=["LoanStatus","SelfEmployed"], as_index=False)['LoanID'].count()
print(d)
sns.catplot(x="SelfEmployed",y="LoanID", hue="LoanStatus", data=d, kind="bar")


d = train.groupby(by=["LoanStatus","CreditHistory"], as_index=False)['LoanID'].count()
d.rename(columns={'LoanID':'Count'}, inplace=True)
sns.catplot(x="CreditHistory",y="Count", hue="LoanStatus", data=d, kind="bar")


d = train.groupby(by=["LoanStatus","PropertyArea"], as_index=False)['LoanID'].count()
d.rename(columns={'LoanID':'Count'}, inplace=True)
print(d)
sns.catplot(x="PropertyArea",y="Count", hue="LoanStatus", data=d, kind='bar')


d = train.groupby(by=["LoanStatus","Gender"], as_index=False)['LoanID'].count()
print(d)
sns.catplot(x="Gender",y="LoanID", hue="LoanStatus", data=d, kind="bar")


37/75, 150/339   # Rejection rate based on gender 





# Making bins for Applicant income variable
bins=[0,2500,4000,6000,85000]
group=['Low','Average','High', 'Very high']
# Create a new column for income bin  
train['IncomeBin']= pd.cut(train['ApplicantIncome'],bins,labels=group)


train[['ApplicantIncome','IncomeBin']].sample(10)


sns.countplot(x="IncomeBin", hue="LoanStatus", data=train)


# Making bins for LoanAmount variable
bins=[0,100,200,700]
group=['Low','Average','High']
train['LoanAmountBin']=pd.cut(train['LoanAmount'],bins,labels=group)
train[['LoanAmount','LoanAmountBin']].head(10)


sns.countplot(x="LoanAmountBin", hue="LoanStatus", data=train)





sns.regplot(x="ApplicantIncome", y = "LoanAmount", data = train,ci=False)


sns.relplot(x="ApplicantIncome", y = "LoanAmount", hue='LoanStatus', data = train)


sns.relplot(x="ApplicantIncome", y = "LoanAmount", hue='LoanStatus', size="CreditHistory", data = train)


sns.relplot(x="ApplicantIncome", y = "LoanAmount", hue='LoanStatus',col='CreditHistory',data = train)





train.columns


sns.relplot(x="CoapplicantIncome", y = "LoanAmount", col='LoanStatus', data = train)





# Drop the new variable of bins
train.drop(['IncomeBin', 'LoanAmountBin'], axis=1, inplace=True)





train['Dependents'].value_counts()


# replacing 3+ in Dependents variable with 3
#train['Dependents'].replace(to_replace ='3+', value='3',inplace=True)
train['Dependents'] = train['Dependents'].replace(to_replace ='3+', value='3')


train['Dependents'].value_counts()





# replacing Y and N in Loan_Status variable with 1 and 0 respectively
#train['LoanStatus'] = train['LoanStatus'].replace(to_replace =['N','Y'], value=['0','1'])





# Checking the missing values
s = train.isnull().sum()
s [ s > 0]


# replacing the missing values with the mode
train['Gender'] = train['Gender'].fillna(train['Gender'].mode()[0])


train['Married'] = train['Married'].fillna(train['Married'].mode()[0])
train['SelfEmployed'] = train['SelfEmployed'].fillna(train['SelfEmployed'].mode()[0])


# Drop rows where credit history is null 
train = train[train.CreditHistory.notnull()]


train.shape


train['Dependents'] = train['Dependents'].fillna(train['Dependents'].mode()[0])


train['LoanAmountTerm'] = train['LoanAmountTerm'].fillna(train['LoanAmountTerm'].mode()[0])


train.LoanAmount.median(), train.LoanAmount.mean()


# Replace missing values
train['LoanAmount'] = train['LoanAmount'].fillna(train['LoanAmount'].median())


train.isnull().sum()





train['Income'] = train['ApplicantIncome'] + train['CoapplicantIncome']


train['Income'].hist(bins=5)


sns.histplot(data = train['Income'], kde=True)


train['LoanAmount'].hist(bins=10)


# Removing skewness in LoanAmount variable by log transformation
train['LoanAmountLog'] = np.log(train['LoanAmount'])
train['LoanAmountLog'].hist(bins=10)


# Removing skewness in Income variable by log transformation
train['IncomeLog'] = np.log(train['Income'])
train['IncomeLog'].hist(bins=10)


train.drop(['LoanID','LoanAmount','ApplicantIncome','CoapplicantIncome','Income'],axis=1,inplace=True)


train.info()


# Print correlation matrix to understand relationship between variables
matrix = train.corr(numeric_only = True)
# print(matrix)
sns.heatmap(matrix, annot=True)
plt.gcf().set_size_inches(10,5)


# Save dataframe
train.to_csv("final_train.csv",index=False)



