from sklearn.datasets import load_iris
from sklearn.svm import LinearSVC
from sklearn.neighbors import KNeighborsClassifier
from sklearn.linear_model import LogisticRegression
from sklearn.preprocessing import StandardScaler
from sklearn.ensemble import VotingClassifier
from sklearn.model_selection import train_test_split


df = load_iris(as_frame=True)


df.data


df.target


print(df.DESCR)


X, y = load_iris(return_X_y=True)


X.shape


type(X)


X[:10]


X_train, X_test, y_train, y_test = train_test_split(X, y)





ss = StandardScaler()


X_train_scaled = ss.fit_transform(X_train)
X_test_scaled = ss.transform(X_test)





lr = LogisticRegression()
svc = LinearSVC(dual=True)
knn = KNeighborsClassifier(n_neighbors=3)





eclf = VotingClassifier(estimators=[('lr', lr), ('svc', svc),('knn',knn)],
        voting='hard')





for clf,name in zip([lr,svc,knn,eclf],['Logistic Regression','Support Vectors','K-Nearest Neighbors','Voting Classifer']):
    clf.fit(X_train_scaled,y_train)
    score = clf.score(X_test_scaled,y_test)
    print(f'{name} -> {score:0.2f}')



