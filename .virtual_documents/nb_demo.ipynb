print('Hello Notebook')


for i in range(5):
    print(i, end =  ' ')








import datetime 
print(datetime.datetime.now())


d = datetime.datetime.now()
#d.utcnow()
d.now(datetime.UTC)





%pwd





%%writefile names.txt
Java
Python
JavaScript
C#
C++


%%js
var d = new Date()
//alert(d)


%%capture mynumbers 
for n in range(1,11):
    print(n)


print(mynumbers.stdout)


%%timeit -n 10
lst = []
for n in range(1, 1000):
    lst.append(n*n)


%%timeit -n 10
lst = [n*n for n in range(1,1000)]

















from IPython.display import Image
Image(url="http://www.srikanthtechnologies.com/banner.jpg")





!dir


names = !type names.txt


names


filename = "names.txt"
!type {filename}



