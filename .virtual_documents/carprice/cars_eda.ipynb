


# import pandas library
import pandas as pd
import numpy as np
import matplotlib.pyplot as plt
import seaborn as sns
pd.set_option('display.max_columns',None)    # Display all columns 
import warnings 
warnings.filterwarnings(action='ignore')


df = pd.read_csv("old_cars.csv") 


df.shape


df.info()


df.sample(10)


cm = df.corr(numeric_only=True)
cm


np.abs(cm['price']).sort_values(ascending=False)


df.describe()


df.describe(include=['object'])  # Only columns of type object 








sns.displot(df['price'], kde=False)


sns.boxplot(x = df['price'])





df['fuel-type'].value_counts()


sns.countplot(x= df['fuel-type'])


df.groupby('fuel-type')['price'].median()


sns.catplot(x='fuel-type',y="price", data=df, kind='box')





df['make'].unique().size


g = df.groupby('make', as_index = False)['price'].mean()
plt.gcf().set_size_inches(20,5)
plt.xticks(rotation='vertical')
sns.barplot(x = g['make'], y = g['price'])


df.groupby('make')['price'].mean().sort_values(ascending=False)


# Understand distribution of make
plt.gcf().set_size_inches(20,5)
plt.xticks(rotation='vertical')
sns.countplot(x= df['make'])


df['make'].value_counts()





# Understand distribution of fuel-type
sns.countplot(x= df['body-style'])


g = df.groupby('body-style', as_index = False)['price'].mean()
sns.barplot(x = g['body-style'], y = g['price'])





df['num-of-doors'].value_counts()


# Replace ? in no-of-doors with mode of no-of-doors
df.loc[df['num-of-doors'] == '?', 'num-of-doors'] = df['num-of-doors'].mode()[0]


# Understand distribution of fuel-type
sns.countplot(x= df['num-of-doors'])


sns.barplot(x="num-of-doors", y="price", data = df, ci = False)


sns.boxplot(x="num-of-doors", y = "price", data = df)





sns.barplot(x="drive-wheels", y='price', data=df, ci= False)


sns.countplot(x="drive-wheels", data=df)





# Understand distribution of engine-size
sns.boxplot(x= df['engine-size'])


plt.gcf().set_size_inches(20,5)
plt.xticks(rotation='vertical')
sns.barplot(x='make',y='engine-size', data=df, ci=False)





# Understand distribution of highway-mpg
sns.displot(x = df['highway-mpg'], kde=False)


plt.gcf().set_size_inches(20,5)
plt.xticks(rotation='vertical')
sns.barplot(x='make', y = 'highway-mpg', data = df, ci=False)


sns.heatmap(df.corr(numeric_only = True), annot=True)


sns.regplot(x="curb-weight", y = "highway-mpg", data=df)


# Compare Engine size with price 
sns.regplot(x ="engine-size", y = 'price', data = df,ci=False)


# Compare city-mpg with price 
sns.regplot(x ="highway-mpg", y = 'price', data = df, ci = False)


# Save dataframe
df.to_csv("final_cars.csv",index=False)



