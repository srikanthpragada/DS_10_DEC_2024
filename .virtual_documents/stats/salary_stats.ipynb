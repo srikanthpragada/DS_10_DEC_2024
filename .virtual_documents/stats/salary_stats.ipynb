import scipy.stats as ss
import statistics as stats
import pandas as pd
import seaborn as sb





data = pd.read_csv("Salary.csv")  # returns DataFrame
data.sample(10)


salaries = data['salary']
years = data['exp']


type(salaries)


stats.mean(salaries)


stats.median(salaries)


ss.skew(salaries)


ss.kurtosis(salaries)


salaries.plot(kind='hist',bins=10)


ss.iqr(salaries)


r, p = ss.pearsonr( data['exp'], data['salary'])


print(f"{r:.2f}, {p:.5f}")


data.plot(x='exp', y='salary', kind='scatter')


lr = ss.linregress(years,salaries)


lr


exp = [2,8,6,5,4]
pre_sals = []
for x in exp:
   pre_sals.append( lr.intercept + lr.slope * x)


pre_sals





exp_sals = []
for x in years:
   exp_sals.append(lr.intercept +  lr.slope * x)


exp_sals


salaries


ds = pd.DataFrame( {'years' : years, 'exp_sals' : exp_sals})


ds.head()


# Compare exp with actual 
sb.scatterplot(x='exp', y='salary', data = data)
sb.lineplot(x='years', y='exp_sals',data= ds)



