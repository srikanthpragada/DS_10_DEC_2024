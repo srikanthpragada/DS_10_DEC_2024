


import pandas as pd
import numpy as np
from scipy.spatial.distance import hamming


import warnings
warnings.simplefilter(action='ignore',category=Warning)


df_ratings = pd.read_csv("recent_ratings.csv")
df_movies = pd.read_csv('recent_movies.csv')


df_ratings.shape, df_movies.shape


df_ratings.userId.unique().size  # No. of unique users 


df_ratings.movieId.unique().size  # No. of unique movies 


df_ratings.sample(5)


# Remove timestamp column  
df_ratings.drop(columns='timestamp', inplace=True)


df_ratings.sample(5)


df_movies.sample(5)


# Get rating for each user and movie - userid is row label and movieid is column label 
ratings = df_ratings.pivot(
    index='userId',
    columns='movieId',
    values='rating')


ratings.sample(5)


ratings.loc[233, ratings.loc[233,:].notna()]  # Ratings given by 233 





l1 = (1,2,4,np.nan)
l2 = (1,2,np.nan,3)
l3 = (1,np.nan, 3,5)
l4 = (np.nan, np.nan, np.nan, np.nan)
print(hamming(l1,l2))
print(hamming(l1,l3))
print(hamming(l1,l4))


# Find out hamming distance between ratings of two users
def hamming_distance(ratings, user1, user2):
    # Ratings of a user 
    try:
        user1_ratings = ratings.loc[user1,:]
        user2_ratings = ratings.loc[user2,:]
        distance = hamming(user1_ratings, user2_ratings)
    except:
        distance = np.NaN

    return distance    


# Get neighbours of the given user 
def get_nearest_users(ratings, active_user, k = 10):
    all_users = pd.DataFrame(ratings.index) # UserIds 
    other_users = all_users[all_users.userId != active_user]
    
    other_users['distance'] = other_users['userId'].apply(lambda x: hamming_distance(ratings,active_user,x))
    
    # find out hamming distance and return users with low hamming distance from active user 
    return  other_users.sort_values(['distance'], ascending = True).userId[:k]


print (get_nearest_users(ratings, 400))


def get_recommended_movies(ratings, movies, user, top=5):
    # Find out nearest neighbours based on hamming distance 
    nn_users = get_nearest_users(ratings, user,10)
    #print(nn_users)
    # Get ratings of nearest neighbours(users)
    nn_ratings = ratings[ratings.index.isin(nn_users)]
    
    # Average ratings given by nearest neighbours for all movies
    avg_ratings = nn_ratings.apply(np.nanmean).dropna()
    print(avg_ratings.sort_values(ascending=False)[:20])
    
    # Find out movies that user had already watched
    movies_watched = ratings.transpose()[user].dropna().index
    
    # remove movies that user already watched
    avg_ratings = avg_ratings[~ avg_ratings.index.isin(movies_watched)]
    
    # Findout top n movies based on avg ratings given by nearest neighbours 
    top_movies_ids = avg_ratings.sort_values(ascending=False).index[:top]
   
    # Return recommended movies 
    return movies[movies.movieId.isin(top_movies_ids)].title


get_recommended_movies(ratings,df_movies,249,5)


get_recommended_movies(ratings, df_movies, 433,10)


get_recommended_movies(ratings, df_movies, 125, 10)



