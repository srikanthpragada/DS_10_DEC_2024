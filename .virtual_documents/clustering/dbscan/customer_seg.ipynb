





import random 
import numpy as np 
import pandas as pd
import matplotlib.pyplot as plt 
%matplotlib inline





df = pd.read_csv("customers.csv")
df.head()


df.shape





df = df [['Age','Income']]
df.head()


#Normalize data
from sklearn.preprocessing import scale
df['Age'] = scale(df['Age'])
df['Income'] = scale(df['Income'])
df.head()


from sklearn.cluster import DBSCAN


dbscan = DBSCAN(eps=0.25, min_samples=3)
dbscan.fit(df)


labels = dbscan.labels_
labels[:100]


pd.Series(labels).value_counts()


plt.scatter(df['Age'], df['Income'], c=labels.astype(float))
plt.xlabel('Age', fontsize=14)
plt.ylabel('Income', fontsize=14)
plt.show()


len(dbscan.components_)


len(dbscan.core_sample_indices_)


core_points = df.loc[dbscan.core_sample_indices_,:]
core_labels = labels[dbscan.core_sample_indices_]


noise_index =[]
for idx in df.index:
    if labels[idx] == -1:
           noise_index.append(idx)


len(noise_index)


noise_points = df.loc[noise_index,:]


len(noise_points)


# Plot core points
plt.scatter(core_points['Age'], core_points['Income'], c=core_labels.astype(float))
plt.scatter(noise_points['Age'], noise_points['Income'], c='red', marker='*')
plt.show()









