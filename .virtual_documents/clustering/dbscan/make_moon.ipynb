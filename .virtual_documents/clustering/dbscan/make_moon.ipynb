





import random 
import numpy as np 
import pandas as pd
import matplotlib.pyplot as plt 
%matplotlib inline
import warnings 
warnings.filterwarnings(action='ignore')


from sklearn.datasets import make_moons
X,y = make_moons(n_samples=100, random_state=1)


df = pd.DataFrame(X)


df.head()


plt.scatter(X[:,0],X[:,1])





from sklearn.cluster import KMeans
kmeans = KMeans(n_clusters=2)
kmeans.fit(X)


labels = kmeans.labels_


centers = kmeans.cluster_centers_


plt.scatter(X[:,0],X[:,1], c=labels.astype(float))
plt.xlabel('Feature1', fontsize=14)
plt.ylabel('Feature2', fontsize=14)
# draw centers 
plt.scatter(centers[:,0], centers[:,1], c="red", marker="s")
plt.show()





from sklearn.cluster import AgglomerativeClustering


model  =  AgglomerativeClustering(n_clusters=2)
model.fit(df)


labels = model.labels_


plt.scatter(X[:,0],X[:,1], c=labels.astype(float))
plt.xlabel('Feature1', fontsize=14)
plt.ylabel('Feature2', fontsize=14)





from sklearn.cluster import DBSCAN


dbscan = DBSCAN(eps=0.25, min_samples=5)
dbscan.fit(X)


df['labels'] = dbscan.labels_


df.labels.value_counts()


plt.scatter(X[:,0], X[:,1], c=df.labels.astype(float))






