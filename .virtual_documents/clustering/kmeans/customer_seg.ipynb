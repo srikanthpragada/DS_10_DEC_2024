





import random 
import numpy as np 
import pandas as pd
import matplotlib.pyplot as plt 
from sklearn.cluster import KMeans 
%matplotlib inline
import warnings 
warnings.filterwarnings(action='ignore')





df = pd.read_csv("customers.csv")
df.head()


df.shape





df = df [['Age','Income']]
df.head()


# Standarize data
from sklearn.preprocessing import scale
df['Age'] = scale(df['Age'])
df['Income'] = scale(df['Income'])
df.head()





clusterNum = 4
k_means = KMeans(n_clusters = clusterNum) 
k_means.fit(df)
labels = k_means.labels_
print(labels[:100])





k_means.n_iter_


df["cluster"] = labels
df.head(5)





df.groupby('cluster').mean()


k_means.cluster_centers_


df.cluster.value_counts()





centers = k_means.cluster_centers_


plt.scatter(df['Age'], df['Income'], c=labels.astype(float))
plt.xlabel('Age', fontsize=18)
plt.ylabel('Income', fontsize=16)
plt.scatter(centers[:,0],centers[:,1], c="red",marker="s" )
plt.show()


k_means.inertia_    # Sum of squared distances of samples to their closest cluster center (centroid)


cost = []
for k in range(2,10):
   kmeans = KMeans(n_clusters=k)
   kmeans.fit(df)
   cost.append(kmeans.inertia_)   


plt.plot(range(2,10), cost)
plt.xlabel("K")
plt.ylabel("Inertia (Cost)")



