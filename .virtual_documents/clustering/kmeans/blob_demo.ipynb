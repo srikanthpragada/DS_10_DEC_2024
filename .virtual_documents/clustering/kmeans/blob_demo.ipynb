from sklearn.datasets import make_blobs
from sklearn.cluster import KMeans
import matplotlib.pyplot as plt
import numpy as np
import warnings 
warnings.filterwarnings(action='ignore')


# generate synthetic two-dimensional data
X, y = make_blobs(n_samples = 100, random_state=10)


X.shape


X[:10]


y.shape


y[:10]


plt.scatter(X[:,0],X[:,1])
plt.xlabel('Feature1', fontsize=14)
plt.ylabel('Feature2', fontsize=14)


kmeans = KMeans(n_clusters=3, max_iter=10)
kmeans.fit(X)


labels = kmeans.labels_
labels


# Centroids 
centers = kmeans.cluster_centers_
centers


plt.scatter(X[:,0],X[:,1], c = labels.astype(float))
plt.xlabel('Feature1', fontsize=14)
plt.ylabel('Feature2', fontsize=14)
# draw centers 
plt.scatter(centers[:,0],  centers[:,1], c="red", marker="s")
plt.show()


print(kmeans.transform(X[:10]))   # Show distance between centroids and points
print(labels[:10])


kmeans.inertia_


kmeans.n_iter_


kmeans.score(X)





cost = []
for k in range(2,6):
   kmeans = KMeans(n_clusters=k, n_init=1)
   kmeans.fit(X)
   cost.append(kmeans.inertia_)   


plt.plot(range(2,6), cost)
plt.xlabel("K")
plt.ylabel("Inertia (Cost)")
