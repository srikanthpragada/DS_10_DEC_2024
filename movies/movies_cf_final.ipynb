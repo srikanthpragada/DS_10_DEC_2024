{
 "cells": [
  {
   "cell_type": "markdown",
   "metadata": {},
   "source": [
    "## Recommending movies using Collaborative Filtering "
   ]
  },
  {
   "cell_type": "code",
   "execution_count": 74,
   "metadata": {},
   "outputs": [],
   "source": [
    "import pandas as pd\n",
    "import numpy as np\n",
    "from scipy.spatial.distance import hamming"
   ]
  },
  {
   "cell_type": "code",
   "execution_count": 75,
   "metadata": {},
   "outputs": [],
   "source": [
    "import warnings\n",
    "warnings.simplefilter(action='ignore',category=Warning)"
   ]
  },
  {
   "cell_type": "code",
   "execution_count": 76,
   "metadata": {},
   "outputs": [],
   "source": [
    "df_ratings = pd.read_csv(\"recent_ratings.csv\")\n",
    "df_movies = pd.read_csv('recent_movies.csv')"
   ]
  },
  {
   "cell_type": "code",
   "execution_count": 77,
   "metadata": {},
   "outputs": [
    {
     "data": {
      "text/plain": [
       "((552, 4), (188, 4))"
      ]
     },
     "execution_count": 77,
     "metadata": {},
     "output_type": "execute_result"
    }
   ],
   "source": [
    "df_ratings.shape, df_movies.shape"
   ]
  },
  {
   "cell_type": "code",
   "execution_count": 78,
   "metadata": {},
   "outputs": [
    {
     "data": {
      "text/plain": [
       "63"
      ]
     },
     "execution_count": 78,
     "metadata": {},
     "output_type": "execute_result"
    }
   ],
   "source": [
    "df_ratings.userId.unique().size  # No. of unique users "
   ]
  },
  {
   "cell_type": "code",
   "execution_count": 79,
   "metadata": {},
   "outputs": [
    {
     "data": {
      "text/plain": [
       "188"
      ]
     },
     "execution_count": 79,
     "metadata": {},
     "output_type": "execute_result"
    }
   ],
   "source": [
    "df_ratings.movieId.unique().size  # No. of unique movies "
   ]
  },
  {
   "cell_type": "code",
   "execution_count": 80,
   "metadata": {},
   "outputs": [
    {
     "data": {
      "text/html": [
       "<div>\n",
       "<style scoped>\n",
       "    .dataframe tbody tr th:only-of-type {\n",
       "        vertical-align: middle;\n",
       "    }\n",
       "\n",
       "    .dataframe tbody tr th {\n",
       "        vertical-align: top;\n",
       "    }\n",
       "\n",
       "    .dataframe thead th {\n",
       "        text-align: right;\n",
       "    }\n",
       "</style>\n",
       "<table border=\"1\" class=\"dataframe\">\n",
       "  <thead>\n",
       "    <tr style=\"text-align: right;\">\n",
       "      <th></th>\n",
       "      <th>userId</th>\n",
       "      <th>movieId</th>\n",
       "      <th>rating</th>\n",
       "      <th>timestamp</th>\n",
       "    </tr>\n",
       "  </thead>\n",
       "  <tbody>\n",
       "    <tr>\n",
       "      <th>478</th>\n",
       "      <td>567</td>\n",
       "      <td>183897</td>\n",
       "      <td>3.5</td>\n",
       "      <td>1525282061</td>\n",
       "    </tr>\n",
       "    <tr>\n",
       "      <th>162</th>\n",
       "      <td>184</td>\n",
       "      <td>176371</td>\n",
       "      <td>4.5</td>\n",
       "      <td>1537109683</td>\n",
       "    </tr>\n",
       "    <tr>\n",
       "      <th>121</th>\n",
       "      <td>111</td>\n",
       "      <td>184015</td>\n",
       "      <td>3.5</td>\n",
       "      <td>1518640587</td>\n",
       "    </tr>\n",
       "    <tr>\n",
       "      <th>181</th>\n",
       "      <td>205</td>\n",
       "      <td>179817</td>\n",
       "      <td>4.5</td>\n",
       "      <td>1519901378</td>\n",
       "    </tr>\n",
       "    <tr>\n",
       "      <th>133</th>\n",
       "      <td>153</td>\n",
       "      <td>168492</td>\n",
       "      <td>4.5</td>\n",
       "      <td>1525548280</td>\n",
       "    </tr>\n",
       "  </tbody>\n",
       "</table>\n",
       "</div>"
      ],
      "text/plain": [
       "     userId  movieId  rating   timestamp\n",
       "478     567   183897     3.5  1525282061\n",
       "162     184   176371     4.5  1537109683\n",
       "121     111   184015     3.5  1518640587\n",
       "181     205   179817     4.5  1519901378\n",
       "133     153   168492     4.5  1525548280"
      ]
     },
     "execution_count": 80,
     "metadata": {},
     "output_type": "execute_result"
    }
   ],
   "source": [
    "df_ratings.sample(5)"
   ]
  },
  {
   "cell_type": "code",
   "execution_count": 81,
   "metadata": {},
   "outputs": [],
   "source": [
    "# Remove timestamp column  \n",
    "df_ratings.drop(columns='timestamp', inplace=True)"
   ]
  },
  {
   "cell_type": "code",
   "execution_count": 82,
   "metadata": {},
   "outputs": [
    {
     "data": {
      "text/html": [
       "<div>\n",
       "<style scoped>\n",
       "    .dataframe tbody tr th:only-of-type {\n",
       "        vertical-align: middle;\n",
       "    }\n",
       "\n",
       "    .dataframe tbody tr th {\n",
       "        vertical-align: top;\n",
       "    }\n",
       "\n",
       "    .dataframe thead th {\n",
       "        text-align: right;\n",
       "    }\n",
       "</style>\n",
       "<table border=\"1\" class=\"dataframe\">\n",
       "  <thead>\n",
       "    <tr style=\"text-align: right;\">\n",
       "      <th></th>\n",
       "      <th>userId</th>\n",
       "      <th>movieId</th>\n",
       "      <th>rating</th>\n",
       "    </tr>\n",
       "  </thead>\n",
       "  <tbody>\n",
       "    <tr>\n",
       "      <th>388</th>\n",
       "      <td>414</td>\n",
       "      <td>180985</td>\n",
       "      <td>3.5</td>\n",
       "    </tr>\n",
       "    <tr>\n",
       "      <th>244</th>\n",
       "      <td>249</td>\n",
       "      <td>170875</td>\n",
       "      <td>3.0</td>\n",
       "    </tr>\n",
       "    <tr>\n",
       "      <th>121</th>\n",
       "      <td>111</td>\n",
       "      <td>184015</td>\n",
       "      <td>3.5</td>\n",
       "    </tr>\n",
       "    <tr>\n",
       "      <th>6</th>\n",
       "      <td>18</td>\n",
       "      <td>180095</td>\n",
       "      <td>3.0</td>\n",
       "    </tr>\n",
       "    <tr>\n",
       "      <th>261</th>\n",
       "      <td>258</td>\n",
       "      <td>122916</td>\n",
       "      <td>3.0</td>\n",
       "    </tr>\n",
       "  </tbody>\n",
       "</table>\n",
       "</div>"
      ],
      "text/plain": [
       "     userId  movieId  rating\n",
       "388     414   180985     3.5\n",
       "244     249   170875     3.0\n",
       "121     111   184015     3.5\n",
       "6        18   180095     3.0\n",
       "261     258   122916     3.0"
      ]
     },
     "execution_count": 82,
     "metadata": {},
     "output_type": "execute_result"
    }
   ],
   "source": [
    "df_ratings.sample(5)"
   ]
  },
  {
   "cell_type": "code",
   "execution_count": 83,
   "metadata": {},
   "outputs": [
    {
     "data": {
      "text/html": [
       "<div>\n",
       "<style scoped>\n",
       "    .dataframe tbody tr th:only-of-type {\n",
       "        vertical-align: middle;\n",
       "    }\n",
       "\n",
       "    .dataframe tbody tr th {\n",
       "        vertical-align: top;\n",
       "    }\n",
       "\n",
       "    .dataframe thead th {\n",
       "        text-align: right;\n",
       "    }\n",
       "</style>\n",
       "<table border=\"1\" class=\"dataframe\">\n",
       "  <thead>\n",
       "    <tr style=\"text-align: right;\">\n",
       "      <th></th>\n",
       "      <th>movieId</th>\n",
       "      <th>title</th>\n",
       "      <th>genres</th>\n",
       "      <th>year</th>\n",
       "    </tr>\n",
       "  </thead>\n",
       "  <tbody>\n",
       "    <tr>\n",
       "      <th>168</th>\n",
       "      <td>187717</td>\n",
       "      <td>Won't You Be My Neighbor? (2018)</td>\n",
       "      <td>Documentary</td>\n",
       "      <td>2018</td>\n",
       "    </tr>\n",
       "    <tr>\n",
       "      <th>151</th>\n",
       "      <td>184641</td>\n",
       "      <td>Fullmetal Alchemist 2018 (2017)</td>\n",
       "      <td>Action|Adventure|Fantasy</td>\n",
       "      <td>2017</td>\n",
       "    </tr>\n",
       "    <tr>\n",
       "      <th>133</th>\n",
       "      <td>181659</td>\n",
       "      <td>Craig Ferguson: Tickle Fight (2017)</td>\n",
       "      <td>Comedy</td>\n",
       "      <td>2017</td>\n",
       "    </tr>\n",
       "    <tr>\n",
       "      <th>121</th>\n",
       "      <td>180045</td>\n",
       "      <td>Molly's Game (2017)</td>\n",
       "      <td>Drama</td>\n",
       "      <td>2017</td>\n",
       "    </tr>\n",
       "    <tr>\n",
       "      <th>64</th>\n",
       "      <td>173291</td>\n",
       "      <td>Valerian and the City of a Thousand Planets (2...</td>\n",
       "      <td>Action|Adventure|Sci-Fi</td>\n",
       "      <td>2017</td>\n",
       "    </tr>\n",
       "  </tbody>\n",
       "</table>\n",
       "</div>"
      ],
      "text/plain": [
       "     movieId                                              title  \\\n",
       "168   187717                   Won't You Be My Neighbor? (2018)   \n",
       "151   184641                    Fullmetal Alchemist 2018 (2017)   \n",
       "133   181659                Craig Ferguson: Tickle Fight (2017)   \n",
       "121   180045                                Molly's Game (2017)   \n",
       "64    173291  Valerian and the City of a Thousand Planets (2...   \n",
       "\n",
       "                       genres  year  \n",
       "168               Documentary  2018  \n",
       "151  Action|Adventure|Fantasy  2017  \n",
       "133                    Comedy  2017  \n",
       "121                     Drama  2017  \n",
       "64    Action|Adventure|Sci-Fi  2017  "
      ]
     },
     "execution_count": 83,
     "metadata": {},
     "output_type": "execute_result"
    }
   ],
   "source": [
    "df_movies.sample(5)"
   ]
  },
  {
   "cell_type": "code",
   "execution_count": 84,
   "metadata": {},
   "outputs": [],
   "source": [
    "# Get rating for each user and movie - userid is row label and movieid is column label \n",
    "ratings = df_ratings.pivot(\n",
    "    index='userId',\n",
    "    columns='movieId',\n",
    "    values='rating')"
   ]
  },
  {
   "cell_type": "code",
   "execution_count": 85,
   "metadata": {},
   "outputs": [
    {
     "data": {
      "text/plain": [
       "(63, 188)"
      ]
     },
     "execution_count": 85,
     "metadata": {},
     "output_type": "execute_result"
    }
   ],
   "source": [
    "ratings.shape"
   ]
  },
  {
   "cell_type": "code",
   "execution_count": 86,
   "metadata": {},
   "outputs": [
    {
     "data": {
      "text/html": [
       "<div>\n",
       "<style scoped>\n",
       "    .dataframe tbody tr th:only-of-type {\n",
       "        vertical-align: middle;\n",
       "    }\n",
       "\n",
       "    .dataframe tbody tr th {\n",
       "        vertical-align: top;\n",
       "    }\n",
       "\n",
       "    .dataframe thead th {\n",
       "        text-align: right;\n",
       "    }\n",
       "</style>\n",
       "<table border=\"1\" class=\"dataframe\">\n",
       "  <thead>\n",
       "    <tr style=\"text-align: right;\">\n",
       "      <th>movieId</th>\n",
       "      <th>122896</th>\n",
       "      <th>122898</th>\n",
       "      <th>122906</th>\n",
       "      <th>122912</th>\n",
       "      <th>122916</th>\n",
       "      <th>122918</th>\n",
       "      <th>122926</th>\n",
       "      <th>143355</th>\n",
       "      <th>166534</th>\n",
       "      <th>167064</th>\n",
       "      <th>...</th>\n",
       "      <th>189381</th>\n",
       "      <th>189713</th>\n",
       "      <th>190183</th>\n",
       "      <th>190209</th>\n",
       "      <th>190215</th>\n",
       "      <th>191005</th>\n",
       "      <th>193581</th>\n",
       "      <th>193583</th>\n",
       "      <th>193585</th>\n",
       "      <th>193587</th>\n",
       "    </tr>\n",
       "    <tr>\n",
       "      <th>userId</th>\n",
       "      <th></th>\n",
       "      <th></th>\n",
       "      <th></th>\n",
       "      <th></th>\n",
       "      <th></th>\n",
       "      <th></th>\n",
       "      <th></th>\n",
       "      <th></th>\n",
       "      <th></th>\n",
       "      <th></th>\n",
       "      <th></th>\n",
       "      <th></th>\n",
       "      <th></th>\n",
       "      <th></th>\n",
       "      <th></th>\n",
       "      <th></th>\n",
       "      <th></th>\n",
       "      <th></th>\n",
       "      <th></th>\n",
       "      <th></th>\n",
       "      <th></th>\n",
       "    </tr>\n",
       "  </thead>\n",
       "  <tbody>\n",
       "    <tr>\n",
       "      <th>305</th>\n",
       "      <td>NaN</td>\n",
       "      <td>NaN</td>\n",
       "      <td>NaN</td>\n",
       "      <td>4.5</td>\n",
       "      <td>4.5</td>\n",
       "      <td>3.5</td>\n",
       "      <td>4.0</td>\n",
       "      <td>NaN</td>\n",
       "      <td>NaN</td>\n",
       "      <td>NaN</td>\n",
       "      <td>...</td>\n",
       "      <td>NaN</td>\n",
       "      <td>NaN</td>\n",
       "      <td>NaN</td>\n",
       "      <td>NaN</td>\n",
       "      <td>NaN</td>\n",
       "      <td>NaN</td>\n",
       "      <td>NaN</td>\n",
       "      <td>NaN</td>\n",
       "      <td>NaN</td>\n",
       "      <td>NaN</td>\n",
       "    </tr>\n",
       "    <tr>\n",
       "      <th>119</th>\n",
       "      <td>NaN</td>\n",
       "      <td>NaN</td>\n",
       "      <td>NaN</td>\n",
       "      <td>NaN</td>\n",
       "      <td>NaN</td>\n",
       "      <td>NaN</td>\n",
       "      <td>NaN</td>\n",
       "      <td>NaN</td>\n",
       "      <td>NaN</td>\n",
       "      <td>NaN</td>\n",
       "      <td>...</td>\n",
       "      <td>NaN</td>\n",
       "      <td>NaN</td>\n",
       "      <td>NaN</td>\n",
       "      <td>NaN</td>\n",
       "      <td>NaN</td>\n",
       "      <td>NaN</td>\n",
       "      <td>NaN</td>\n",
       "      <td>NaN</td>\n",
       "      <td>NaN</td>\n",
       "      <td>NaN</td>\n",
       "    </tr>\n",
       "    <tr>\n",
       "      <th>89</th>\n",
       "      <td>NaN</td>\n",
       "      <td>NaN</td>\n",
       "      <td>NaN</td>\n",
       "      <td>NaN</td>\n",
       "      <td>NaN</td>\n",
       "      <td>NaN</td>\n",
       "      <td>NaN</td>\n",
       "      <td>NaN</td>\n",
       "      <td>NaN</td>\n",
       "      <td>NaN</td>\n",
       "      <td>...</td>\n",
       "      <td>NaN</td>\n",
       "      <td>NaN</td>\n",
       "      <td>NaN</td>\n",
       "      <td>NaN</td>\n",
       "      <td>NaN</td>\n",
       "      <td>NaN</td>\n",
       "      <td>NaN</td>\n",
       "      <td>NaN</td>\n",
       "      <td>NaN</td>\n",
       "      <td>NaN</td>\n",
       "    </tr>\n",
       "    <tr>\n",
       "      <th>556</th>\n",
       "      <td>NaN</td>\n",
       "      <td>NaN</td>\n",
       "      <td>NaN</td>\n",
       "      <td>NaN</td>\n",
       "      <td>NaN</td>\n",
       "      <td>NaN</td>\n",
       "      <td>NaN</td>\n",
       "      <td>NaN</td>\n",
       "      <td>NaN</td>\n",
       "      <td>NaN</td>\n",
       "      <td>...</td>\n",
       "      <td>NaN</td>\n",
       "      <td>NaN</td>\n",
       "      <td>NaN</td>\n",
       "      <td>NaN</td>\n",
       "      <td>NaN</td>\n",
       "      <td>NaN</td>\n",
       "      <td>NaN</td>\n",
       "      <td>NaN</td>\n",
       "      <td>NaN</td>\n",
       "      <td>NaN</td>\n",
       "    </tr>\n",
       "    <tr>\n",
       "      <th>414</th>\n",
       "      <td>NaN</td>\n",
       "      <td>NaN</td>\n",
       "      <td>4.0</td>\n",
       "      <td>NaN</td>\n",
       "      <td>4.0</td>\n",
       "      <td>4.0</td>\n",
       "      <td>4.5</td>\n",
       "      <td>4.5</td>\n",
       "      <td>NaN</td>\n",
       "      <td>NaN</td>\n",
       "      <td>...</td>\n",
       "      <td>NaN</td>\n",
       "      <td>NaN</td>\n",
       "      <td>NaN</td>\n",
       "      <td>NaN</td>\n",
       "      <td>NaN</td>\n",
       "      <td>NaN</td>\n",
       "      <td>NaN</td>\n",
       "      <td>NaN</td>\n",
       "      <td>NaN</td>\n",
       "      <td>NaN</td>\n",
       "    </tr>\n",
       "  </tbody>\n",
       "</table>\n",
       "<p>5 rows × 188 columns</p>\n",
       "</div>"
      ],
      "text/plain": [
       "movieId  122896  122898  122906  122912  122916  122918  122926  143355  \\\n",
       "userId                                                                    \n",
       "305         NaN     NaN     NaN     4.5     4.5     3.5     4.0     NaN   \n",
       "119         NaN     NaN     NaN     NaN     NaN     NaN     NaN     NaN   \n",
       "89          NaN     NaN     NaN     NaN     NaN     NaN     NaN     NaN   \n",
       "556         NaN     NaN     NaN     NaN     NaN     NaN     NaN     NaN   \n",
       "414         NaN     NaN     4.0     NaN     4.0     4.0     4.5     4.5   \n",
       "\n",
       "movieId  166534  167064  ...  189381  189713  190183  190209  190215  191005  \\\n",
       "userId                   ...                                                   \n",
       "305         NaN     NaN  ...     NaN     NaN     NaN     NaN     NaN     NaN   \n",
       "119         NaN     NaN  ...     NaN     NaN     NaN     NaN     NaN     NaN   \n",
       "89          NaN     NaN  ...     NaN     NaN     NaN     NaN     NaN     NaN   \n",
       "556         NaN     NaN  ...     NaN     NaN     NaN     NaN     NaN     NaN   \n",
       "414         NaN     NaN  ...     NaN     NaN     NaN     NaN     NaN     NaN   \n",
       "\n",
       "movieId  193581  193583  193585  193587  \n",
       "userId                                   \n",
       "305         NaN     NaN     NaN     NaN  \n",
       "119         NaN     NaN     NaN     NaN  \n",
       "89          NaN     NaN     NaN     NaN  \n",
       "556         NaN     NaN     NaN     NaN  \n",
       "414         NaN     NaN     NaN     NaN  \n",
       "\n",
       "[5 rows x 188 columns]"
      ]
     },
     "execution_count": 86,
     "metadata": {},
     "output_type": "execute_result"
    }
   ],
   "source": [
    "ratings.sample(5)"
   ]
  },
  {
   "cell_type": "code",
   "execution_count": 87,
   "metadata": {},
   "outputs": [
    {
     "data": {
      "text/plain": [
       "movieId\n",
       "122912    2.0\n",
       "168266    3.5\n",
       "174055    2.5\n",
       "177593    5.0\n",
       "178061    3.0\n",
       "180031    3.5\n",
       "183011    1.5\n",
       "183897    3.5\n",
       "187593    2.5\n",
       "Name: 233, dtype: float64"
      ]
     },
     "execution_count": 87,
     "metadata": {},
     "output_type": "execute_result"
    }
   ],
   "source": [
    "ratings.loc[233, ratings.loc[233,:].notna()]  # Ratings given by 233 "
   ]
  },
  {
   "cell_type": "markdown",
   "metadata": {},
   "source": [
    "### Hamming Distance\n",
    "Measures how different two sequences are. It is <b>% of disagreement </b>. A value of 1 indicates sequences are very different, 0 indicates they are very similar."
   ]
  },
  {
   "cell_type": "code",
   "execution_count": 88,
   "metadata": {},
   "outputs": [
    {
     "name": "stdout",
     "output_type": "stream",
     "text": [
      "0.5\n",
      "0.75\n",
      "1.0\n"
     ]
    }
   ],
   "source": [
    "l1 = (1,2,4,np.nan)\n",
    "l2 = (1,2,np.nan,3)\n",
    "l3 = (1,np.nan, 3,5)\n",
    "l4 = (np.nan, np.nan, np.nan, np.nan)\n",
    "print(hamming(l1,l2))\n",
    "print(hamming(l1,l3))\n",
    "print(hamming(l1,l4))"
   ]
  },
  {
   "cell_type": "code",
   "execution_count": 89,
   "metadata": {
    "tags": []
   },
   "outputs": [],
   "source": [
    "# Find out hamming distance between ratings of two users\n",
    "def hamming_distance(ratings, user1, user2):\n",
    "    # Ratings of a user \n",
    "    try:\n",
    "        user1_ratings = ratings.loc[user1,:]\n",
    "        user2_ratings = ratings.loc[user2,:]\n",
    "        distance = hamming(user1_ratings, user2_ratings)\n",
    "    except:\n",
    "        distance = np.NaN\n",
    "\n",
    "    return distance    "
   ]
  },
  {
   "cell_type": "code",
   "execution_count": 90,
   "metadata": {
    "tags": []
   },
   "outputs": [],
   "source": [
    "# Get k neighbours of the given user based on hamming distance \n",
    "def get_nearest_users(ratings, active_user, k = 10):\n",
    "    all_users = pd.DataFrame(ratings.index) # UserIds \n",
    "    other_users = all_users[all_users.userId != active_user]\n",
    "    \n",
    "    other_users['distance'] = other_users['userId'].apply(lambda userid: hamming_distance(ratings,active_user,userid))\n",
    "    \n",
    "    # find out hamming distance and return users with low hamming distance from active user \n",
    "    return  other_users.sort_values(['distance'], ascending = True).userId[:k]"
   ]
  },
  {
   "cell_type": "code",
   "execution_count": 91,
   "metadata": {
    "tags": []
   },
   "outputs": [
    {
     "name": "stdout",
     "output_type": "stream",
     "text": [
      "22    249\n",
      "28    305\n",
      "19    212\n",
      "2      25\n",
      "57    567\n",
      "30    318\n",
      "8      98\n",
      "49    514\n",
      "50    515\n",
      "0      18\n",
      "Name: userId, dtype: int64\n"
     ]
    }
   ],
   "source": [
    "print (get_nearest_users(ratings, 184))"
   ]
  },
  {
   "cell_type": "code",
   "execution_count": 92,
   "metadata": {},
   "outputs": [],
   "source": [
    "def get_recommended_movies(ratings, movies, user, top=5):\n",
    "    # Find out nearest neighbours based on hamming distance \n",
    "    nn_users = get_nearest_users(ratings, user, 10)\n",
    "    #print(nn_users)\n",
    "    # Get ratings of nearest neighbours(users)\n",
    "    nn_ratings = ratings[ratings.index.isin(nn_users)]\n",
    "    \n",
    "    # Average ratings given by nearest neighbours for all movies\n",
    "    avg_ratings = nn_ratings.apply(np.nanmean).dropna()\n",
    "    #print(avg_ratings.shape)\n",
    "    #print(avg_ratings.sort_values(ascending=False)[:20])\n",
    "    \n",
    "    # Find out movies that user had already watched\n",
    "    movies_watched = ratings.transpose()[user].dropna().index\n",
    "    \n",
    "    # remove movies that user already watched\n",
    "    avg_ratings = avg_ratings[~ avg_ratings.index.isin(movies_watched)]\n",
    "    \n",
    "    # Findout top n movies based on avg ratings given by nearest neighbours \n",
    "    top_movies_ids = avg_ratings.sort_values(ascending=False).index[:top]\n",
    "    print(top_movies_ids)\n",
    "    # Return recommended movies \n",
    "    return movies[movies.movieId.isin(top_movies_ids)].title"
   ]
  },
  {
   "cell_type": "code",
   "execution_count": 93,
   "metadata": {},
   "outputs": [
    {
     "name": "stdout",
     "output_type": "stream",
     "text": [
      "Index([172705, 178827, 183897, 177593, 168418], dtype='int64', name='movieId')\n"
     ]
    },
    {
     "data": {
      "text/plain": [
       "22                                 The Boss Baby (2017)\n",
       "56                               Tickling Giants (2017)\n",
       "97     Three Billboards Outside Ebbing, Missouri (2017)\n",
       "105                                 Paddington 2 (2017)\n",
       "145                                 Isle of Dogs (2018)\n",
       "Name: title, dtype: object"
      ]
     },
     "execution_count": 93,
     "metadata": {},
     "output_type": "execute_result"
    }
   ],
   "source": [
    "get_recommended_movies(ratings,df_movies,249,5)"
   ]
  },
  {
   "cell_type": "code",
   "execution_count": 94,
   "metadata": {},
   "outputs": [
    {
     "name": "stdout",
     "output_type": "stream",
     "text": [
      "Index([168326, 122912, 167746, 168248, 168492, 176371, 171763, 176751, 177593,\n",
      "       173197],\n",
      "      dtype='int64', name='movieId')\n"
     ]
    },
    {
     "data": {
      "text/plain": [
       "3               Avengers: Infinity War - Part I (2018)\n",
       "12                        The Lego Batman Movie (2017)\n",
       "15                       John Wick: Chapter Two (2017)\n",
       "20                                 The Big Sick (2017)\n",
       "23                         Call Me by Your Name (2017)\n",
       "51                                  Baby Driver (2017)\n",
       "58                                   The Square (2017)\n",
       "87                            Blade Runner 2049 (2017)\n",
       "92                                American Made (2017)\n",
       "97    Three Billboards Outside Ebbing, Missouri (2017)\n",
       "Name: title, dtype: object"
      ]
     },
     "execution_count": 94,
     "metadata": {},
     "output_type": "execute_result"
    }
   ],
   "source": [
    "get_recommended_movies(ratings, df_movies, 433,10)"
   ]
  },
  {
   "cell_type": "code",
   "execution_count": 95,
   "metadata": {},
   "outputs": [
    {
     "name": "stdout",
     "output_type": "stream",
     "text": [
      "Index([177593, 185031, 166534, 173197, 187593, 122912, 185029, 173925, 122926,\n",
      "       122898],\n",
      "      dtype='int64', name='movieId')\n"
     ]
    },
    {
     "data": {
      "text/plain": [
       "1                                 Justice League (2017)\n",
       "3                Avengers: Infinity War - Part I (2018)\n",
       "6                     Untitled Spider-Man Reboot (2017)\n",
       "8                                          Split (2017)\n",
       "58                                    The Square (2017)\n",
       "65                                 Seven Sisters (2017)\n",
       "97     Three Billboards Outside Ebbing, Missouri (2017)\n",
       "157                                A Quiet Place (2018)\n",
       "158                                        Alpha (2018)\n",
       "166                                   Deadpool 2 (2018)\n",
       "Name: title, dtype: object"
      ]
     },
     "execution_count": 95,
     "metadata": {},
     "output_type": "execute_result"
    }
   ],
   "source": [
    "get_recommended_movies(ratings, df_movies, 125, 10)"
   ]
  },
  {
   "cell_type": "code",
   "execution_count": null,
   "metadata": {},
   "outputs": [],
   "source": []
  }
 ],
 "metadata": {
  "kernelspec": {
   "display_name": "Python 3 (ipykernel)",
   "language": "python",
   "name": "python3"
  },
  "language_info": {
   "codemirror_mode": {
    "name": "ipython",
    "version": 3
   },
   "file_extension": ".py",
   "mimetype": "text/x-python",
   "name": "python",
   "nbconvert_exporter": "python",
   "pygments_lexer": "ipython3",
   "version": "3.12.7"
  }
 },
 "nbformat": 4,
 "nbformat_minor": 4
}
