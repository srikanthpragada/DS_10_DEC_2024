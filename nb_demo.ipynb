{
 "cells": [
  {
   "cell_type": "code",
   "execution_count": 47,
   "id": "6aade190-ac21-4ea1-adfc-0cc047701123",
   "metadata": {},
   "outputs": [
    {
     "name": "stdout",
     "output_type": "stream",
     "text": [
      "Hello Notebook\n"
     ]
    }
   ],
   "source": [
    "print('Hello Notebook')"
   ]
  },
  {
   "cell_type": "code",
   "execution_count": 23,
   "id": "0636d2fd-e825-4587-ab17-de2aa77afb2c",
   "metadata": {
    "collapsed": true,
    "jupyter": {
     "outputs_hidden": true
    }
   },
   "outputs": [
    {
     "name": "stdout",
     "output_type": "stream",
     "text": [
      "0 1 2 3 4 "
     ]
    }
   ],
   "source": [
    "for i in range(5):\n",
    "    print(i, end =  ' ')"
   ]
  },
  {
   "cell_type": "markdown",
   "id": "ec7c1b32-9241-4f4e-a56f-d95fadb53626",
   "metadata": {},
   "source": [
    "# Heading1"
   ]
  },
  {
   "cell_type": "raw",
   "id": "78b3edcb-2144-4292-864a-af06961953d3",
   "metadata": {},
   "source": [
    "This is raw cell. Sample data - 10,10,20,30,40"
   ]
  },
  {
   "cell_type": "code",
   "execution_count": 24,
   "id": "e34d0f45-239d-4743-8025-a88e5ff7d968",
   "metadata": {
    "collapsed": true,
    "jupyter": {
     "outputs_hidden": true
    }
   },
   "outputs": [
    {
     "name": "stdout",
     "output_type": "stream",
     "text": [
      "2024-12-12 20:09:12.362930\n"
     ]
    }
   ],
   "source": [
    "import datetime \n",
    "print(datetime.datetime.now())"
   ]
  },
  {
   "cell_type": "code",
   "execution_count": 29,
   "id": "b02fd1c6-f4fd-445c-8f62-8339dfa66cad",
   "metadata": {
    "collapsed": true,
    "jupyter": {
     "outputs_hidden": true
    }
   },
   "outputs": [
    {
     "data": {
      "text/plain": [
       "datetime.datetime(2024, 12, 12, 14, 44, 37, 822090, tzinfo=datetime.timezone.utc)"
      ]
     },
     "execution_count": 29,
     "metadata": {},
     "output_type": "execute_result"
    }
   ],
   "source": [
    "d = datetime.datetime.now()\n",
    "#d.utcnow()\n",
    "d.now(datetime.UTC)"
   ]
  },
  {
   "cell_type": "markdown",
   "id": "1cdec299-362c-4147-b782-a0a0ba5a691e",
   "metadata": {},
   "source": [
    "## Line Magic Functions"
   ]
  },
  {
   "cell_type": "code",
   "execution_count": 30,
   "id": "81a0ee41-706d-48ec-930f-46cf7d792d1f",
   "metadata": {
    "collapsed": true,
    "jupyter": {
     "outputs_hidden": true
    }
   },
   "outputs": [
    {
     "data": {
      "text/plain": [
       "'C:\\\\classroom\\\\ds'"
      ]
     },
     "execution_count": 30,
     "metadata": {},
     "output_type": "execute_result"
    }
   ],
   "source": [
    "%pwd"
   ]
  },
  {
   "cell_type": "markdown",
   "id": "5bc5caa7-6b0f-42ca-bf5f-3cf5268e5830",
   "metadata": {},
   "source": [
    "## Cell Magic Functions"
   ]
  },
  {
   "cell_type": "code",
   "execution_count": 31,
   "id": "bd6c2bab-90a9-4abf-9693-fb36a43d612e",
   "metadata": {
    "collapsed": true,
    "jupyter": {
     "outputs_hidden": true
    }
   },
   "outputs": [
    {
     "name": "stdout",
     "output_type": "stream",
     "text": [
      "Writing names.txt\n"
     ]
    }
   ],
   "source": [
    "%%writefile names.txt\n",
    "Java\n",
    "Python\n",
    "JavaScript\n",
    "C#\n",
    "C++"
   ]
  },
  {
   "cell_type": "code",
   "execution_count": 48,
   "id": "08b81900-4690-4479-8bb0-5547e0fdd3f2",
   "metadata": {},
   "outputs": [
    {
     "data": {
      "application/javascript": [
       "var d = new Date()\n",
       "//alert(d)\n"
      ],
      "text/plain": [
       "<IPython.core.display.Javascript object>"
      ]
     },
     "metadata": {},
     "output_type": "display_data"
    }
   ],
   "source": [
    "%%js\n",
    "var d = new Date()\n",
    "//alert(d)"
   ]
  },
  {
   "cell_type": "code",
   "execution_count": 36,
   "id": "1513a97f-edd4-4663-a276-45b465d5481b",
   "metadata": {
    "collapsed": true,
    "jupyter": {
     "outputs_hidden": true
    }
   },
   "outputs": [],
   "source": [
    "%%capture mynumbers \n",
    "for n in range(1,11):\n",
    "    print(n)"
   ]
  },
  {
   "cell_type": "code",
   "execution_count": 39,
   "id": "14dadd98-ef3c-4330-8372-1652980448ff",
   "metadata": {
    "collapsed": true,
    "jupyter": {
     "outputs_hidden": true
    },
    "scrolled": true
   },
   "outputs": [
    {
     "name": "stdout",
     "output_type": "stream",
     "text": [
      "1\n",
      "2\n",
      "3\n",
      "4\n",
      "5\n",
      "6\n",
      "7\n",
      "8\n",
      "9\n",
      "10\n",
      "\n"
     ]
    }
   ],
   "source": [
    "print(mynumbers.stdout)"
   ]
  },
  {
   "cell_type": "code",
   "execution_count": 40,
   "id": "bcfa2043-cd1b-46d1-a3fd-ff4ba28a4d2e",
   "metadata": {
    "collapsed": true,
    "jupyter": {
     "outputs_hidden": true
    }
   },
   "outputs": [
    {
     "name": "stdout",
     "output_type": "stream",
     "text": [
      "237 μs ± 66.6 μs per loop (mean ± std. dev. of 7 runs, 10 loops each)\n"
     ]
    }
   ],
   "source": [
    "%%timeit -n 10\n",
    "lst = []\n",
    "for n in range(1, 1000):\n",
    "    lst.append(n*n)"
   ]
  },
  {
   "cell_type": "code",
   "execution_count": 41,
   "id": "cbd2a255-7cde-440f-8b3c-3723e17f8776",
   "metadata": {
    "collapsed": true,
    "jupyter": {
     "outputs_hidden": true
    }
   },
   "outputs": [
    {
     "name": "stdout",
     "output_type": "stream",
     "text": [
      "204 μs ± 35.1 μs per loop (mean ± std. dev. of 7 runs, 10 loops each)\n"
     ]
    }
   ],
   "source": [
    "%%timeit -n 10\n",
    "lst = [n*n for n in range(1,1000)]"
   ]
  },
  {
   "cell_type": "markdown",
   "id": "e3b141da-22eb-4ad3-9827-e3a759e30982",
   "metadata": {},
   "source": [
    "## Markdown Demo"
   ]
  },
  {
   "cell_type": "markdown",
   "id": "e8b3a8fd-2c7c-4e89-a566-821489217b92",
   "metadata": {},
   "source": [
    "**This is bold**\n",
    "<p></p>\n",
    "<i>This is also Italic</i>"
   ]
  },
  {
   "cell_type": "markdown",
   "id": "b12e9da0-fb1d-428d-9f3c-6a5b270974ca",
   "metadata": {},
   "source": [
    "_This is italic_"
   ]
  },
  {
   "cell_type": "markdown",
   "id": "eae4abcf-db4a-4840-a5fd-2d5ff18ba802",
   "metadata": {},
   "source": [
    "- Python\n",
    "- Java\n",
    "- JavaScript"
   ]
  },
  {
   "cell_type": "markdown",
   "id": "ea930741-917e-4025-900a-90901937603b",
   "metadata": {},
   "source": [
    "<div class=\"alert alert-block alert-info\">\n",
    "    This is BLUE box!\n",
    "</div>"
   ]
  },
  {
   "cell_type": "code",
   "execution_count": 42,
   "id": "35dea418-4704-4503-8130-d6a978bf3abe",
   "metadata": {
    "collapsed": true,
    "jupyter": {
     "outputs_hidden": true
    }
   },
   "outputs": [
    {
     "data": {
      "text/html": [
       "<img src=\"http://www.srikanthtechnologies.com/banner.jpg\"/>"
      ],
      "text/plain": [
       "<IPython.core.display.Image object>"
      ]
     },
     "execution_count": 42,
     "metadata": {},
     "output_type": "execute_result"
    }
   ],
   "source": [
    "from IPython.display import Image\n",
    "Image(url=\"http://www.srikanthtechnologies.com/banner.jpg\")"
   ]
  },
  {
   "cell_type": "markdown",
   "id": "16217e10-efd5-40aa-bc69-06ca307c7fbc",
   "metadata": {},
   "source": [
    "## Shell Commands"
   ]
  },
  {
   "cell_type": "code",
   "execution_count": 43,
   "id": "3c83425b-8ca8-4039-a460-927746928b88",
   "metadata": {
    "collapsed": true,
    "jupyter": {
     "outputs_hidden": true
    }
   },
   "outputs": [
    {
     "name": "stdout",
     "output_type": "stream",
     "text": [
      " Volume in drive C is OS\n",
      " Volume Serial Number is D874-1F97\n",
      "\n",
      " Directory of C:\\classroom\\ds\n",
      "\n",
      "12-12-2024  20:35    <DIR>          .\n",
      "12-12-2024  20:35    <DIR>          ..\n",
      "12-12-2024  20:20    <DIR>          .ipynb_checkpoints\n",
      "12-12-2024  20:03    <DIR>          .virtual_documents\n",
      "12-12-2024  20:19                35 names.txt\n",
      "12-12-2024  20:35             7,121 nb_demo.ipynb\n",
      "               2 File(s)          7,156 bytes\n",
      "               4 Dir(s)  360,298,487,808 bytes free\n"
     ]
    }
   ],
   "source": [
    "!dir"
   ]
  },
  {
   "cell_type": "code",
   "execution_count": 44,
   "id": "a26b38b6-2953-4239-98c0-f1a440ec19ce",
   "metadata": {
    "collapsed": true,
    "jupyter": {
     "outputs_hidden": true
    }
   },
   "outputs": [],
   "source": [
    "names = !type names.txt"
   ]
  },
  {
   "cell_type": "code",
   "execution_count": 45,
   "id": "45c1ebc1-4704-499d-83b5-cee3ff121b7f",
   "metadata": {
    "collapsed": true,
    "jupyter": {
     "outputs_hidden": true
    }
   },
   "outputs": [
    {
     "data": {
      "text/plain": [
       "['Java', 'Python', 'JavaScript', 'C#', 'C++']"
      ]
     },
     "execution_count": 45,
     "metadata": {},
     "output_type": "execute_result"
    }
   ],
   "source": [
    "names"
   ]
  },
  {
   "cell_type": "code",
   "execution_count": 46,
   "id": "f918f5ec-d2d4-4b4f-9120-ab7b85a95276",
   "metadata": {
    "collapsed": true,
    "jupyter": {
     "outputs_hidden": true
    }
   },
   "outputs": [
    {
     "name": "stdout",
     "output_type": "stream",
     "text": [
      "Java\n",
      "Python\n",
      "JavaScript\n",
      "C#\n",
      "C++\n"
     ]
    }
   ],
   "source": [
    "filename = \"names.txt\"\n",
    "!type {filename}"
   ]
  },
  {
   "cell_type": "code",
   "execution_count": null,
   "id": "fa3dde95-6c6c-4057-ac53-e0bd9b376bd2",
   "metadata": {
    "collapsed": true,
    "jupyter": {
     "outputs_hidden": true
    }
   },
   "outputs": [],
   "source": []
  }
 ],
 "metadata": {
  "kernelspec": {
   "display_name": "Python 3 (ipykernel)",
   "language": "python",
   "name": "python3"
  },
  "language_info": {
   "codemirror_mode": {
    "name": "ipython",
    "version": 3
   },
   "file_extension": ".py",
   "mimetype": "text/x-python",
   "name": "python",
   "nbconvert_exporter": "python",
   "pygments_lexer": "ipython3",
   "version": "3.12.7"
  }
 },
 "nbformat": 4,
 "nbformat_minor": 5
}
